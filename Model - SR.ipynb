{
 "cells": [
  {
   "cell_type": "markdown",
   "metadata": {},
   "source": [
    "# Import Library"
   ]
  },
  {
   "cell_type": "code",
   "execution_count": 2,
   "metadata": {},
   "outputs": [],
   "source": [
    "# for data manipulating\n",
    "import pandas as pd\n",
    "import numpy as np\n",
    "\n",
    "# for preprocessing\n",
    "from sklearn.preprocessing import StandardScaler, RobustScaler, OneHotEncoder\n",
    "\n",
    "# for features selection \n",
    "from sklearn.feature_selection import RFE\n",
    "\n",
    "# for visualization\n",
    "import seaborn as sns\n",
    "import shap\n",
    "import matplotlib.pyplot as plt\n",
    "import plotly.graph_objects as go\n",
    "from plotly.subplots import make_subplots\n",
    "\n",
    "# for model\n",
    "import xgboost as xgb\n",
    "from sklearn.model_selection import train_test_split\n",
    "\n",
    "# for evaluation\n",
    "from sklearn.model_selection import  cross_val_score\n",
    "from sklearn.metrics import mean_squared_error, make_scorer\n",
    "\n",
    "import warnings\n",
    "\n",
    "# Menonaktifkan peringatan\n",
    "warnings.simplefilter(action='ignore')\n",
    "\n",
    "setattr(pd, \"Int64Index\", pd.Index)\n",
    "setattr(pd, \"Float64Index\", pd.Index)"
   ]
  },
  {
   "cell_type": "markdown",
   "metadata": {},
   "source": [
    "# Import Dataset"
   ]
  },
  {
   "cell_type": "code",
   "execution_count": 3,
   "metadata": {},
   "outputs": [
    {
     "data": {
      "text/html": [
       "<div>\n",
       "<style scoped>\n",
       "    .dataframe tbody tr th:only-of-type {\n",
       "        vertical-align: middle;\n",
       "    }\n",
       "\n",
       "    .dataframe tbody tr th {\n",
       "        vertical-align: top;\n",
       "    }\n",
       "\n",
       "    .dataframe thead th {\n",
       "        text-align: right;\n",
       "    }\n",
       "</style>\n",
       "<table border=\"1\" class=\"dataframe\">\n",
       "  <thead>\n",
       "    <tr style=\"text-align: right;\">\n",
       "      <th></th>\n",
       "      <th>Unnamed: 0</th>\n",
       "      <th>cycle_id</th>\n",
       "      <th>total_harvest(kg)</th>\n",
       "      <th>total_seed</th>\n",
       "      <th>survival_rate(%)</th>\n",
       "      <th>avg_pond_length</th>\n",
       "      <th>avg_pond_width</th>\n",
       "      <th>avg_pond_depth</th>\n",
       "      <th>long_cycle(day)</th>\n",
       "      <th>total_feed(kg)</th>\n",
       "      <th>avg_tray_number</th>\n",
       "      <th>avg_feed_remain%</th>\n",
       "      <th>count_fasting</th>\n",
       "      <th>total_mortal</th>\n",
       "      <th>avg_weight_mortal</th>\n",
       "      <th>avg_weight_sample</th>\n",
       "    </tr>\n",
       "  </thead>\n",
       "  <tbody>\n",
       "    <tr>\n",
       "      <th>0</th>\n",
       "      <td>0</td>\n",
       "      <td>3458</td>\n",
       "      <td>444548.02</td>\n",
       "      <td>566669</td>\n",
       "      <td>78.45</td>\n",
       "      <td>80.09</td>\n",
       "      <td>60.07</td>\n",
       "      <td>1.2</td>\n",
       "      <td>112</td>\n",
       "      <td>9987.0</td>\n",
       "      <td>0.0</td>\n",
       "      <td>0.0</td>\n",
       "      <td>0.0</td>\n",
       "      <td>0.0</td>\n",
       "      <td>0.0</td>\n",
       "      <td>13.590000</td>\n",
       "    </tr>\n",
       "    <tr>\n",
       "      <th>1</th>\n",
       "      <td>1</td>\n",
       "      <td>3459</td>\n",
       "      <td>440387.88</td>\n",
       "      <td>566669</td>\n",
       "      <td>77.72</td>\n",
       "      <td>78.62</td>\n",
       "      <td>58.97</td>\n",
       "      <td>1.2</td>\n",
       "      <td>121</td>\n",
       "      <td>10913.0</td>\n",
       "      <td>0.0</td>\n",
       "      <td>0.0</td>\n",
       "      <td>0.0</td>\n",
       "      <td>0.0</td>\n",
       "      <td>0.0</td>\n",
       "      <td>14.322308</td>\n",
       "    </tr>\n",
       "    <tr>\n",
       "      <th>2</th>\n",
       "      <td>2</td>\n",
       "      <td>4036</td>\n",
       "      <td>154350.00</td>\n",
       "      <td>172250</td>\n",
       "      <td>89.61</td>\n",
       "      <td>39.50</td>\n",
       "      <td>18.40</td>\n",
       "      <td>1.1</td>\n",
       "      <td>39</td>\n",
       "      <td>480.1</td>\n",
       "      <td>0.0</td>\n",
       "      <td>0.0</td>\n",
       "      <td>1.0</td>\n",
       "      <td>0.0</td>\n",
       "      <td>0.0</td>\n",
       "      <td>0.000000</td>\n",
       "    </tr>\n",
       "  </tbody>\n",
       "</table>\n",
       "</div>"
      ],
      "text/plain": [
       "   Unnamed: 0  cycle_id  total_harvest(kg)  total_seed  survival_rate(%)  \\\n",
       "0           0      3458          444548.02      566669             78.45   \n",
       "1           1      3459          440387.88      566669             77.72   \n",
       "2           2      4036          154350.00      172250             89.61   \n",
       "\n",
       "   avg_pond_length  avg_pond_width  avg_pond_depth  long_cycle(day)  \\\n",
       "0            80.09           60.07             1.2              112   \n",
       "1            78.62           58.97             1.2              121   \n",
       "2            39.50           18.40             1.1               39   \n",
       "\n",
       "   total_feed(kg)  avg_tray_number  avg_feed_remain%  count_fasting  \\\n",
       "0          9987.0              0.0               0.0            0.0   \n",
       "1         10913.0              0.0               0.0            0.0   \n",
       "2           480.1              0.0               0.0            1.0   \n",
       "\n",
       "   total_mortal  avg_weight_mortal  avg_weight_sample  \n",
       "0           0.0                0.0          13.590000  \n",
       "1           0.0                0.0          14.322308  \n",
       "2           0.0                0.0           0.000000  "
      ]
     },
     "execution_count": 3,
     "metadata": {},
     "output_type": "execute_result"
    }
   ],
   "source": [
    "df = pd.read_csv(r\"\\Belajar\\Jala Test\\Dataset\\sr_model.csv\")\n",
    "df.head(3)"
   ]
  },
  {
   "cell_type": "markdown",
   "metadata": {},
   "source": [
    "# Data Understanding"
   ]
  },
  {
   "cell_type": "code",
   "execution_count": 4,
   "metadata": {},
   "outputs": [
    {
     "name": "stdout",
     "output_type": "stream",
     "text": [
      "<class 'pandas.core.frame.DataFrame'>\n",
      "RangeIndex: 2344 entries, 0 to 2343\n",
      "Data columns (total 16 columns):\n",
      " #   Column             Non-Null Count  Dtype  \n",
      "---  ------             --------------  -----  \n",
      " 0   Unnamed: 0         2344 non-null   int64  \n",
      " 1   cycle_id           2344 non-null   int64  \n",
      " 2   total_harvest(kg)  2344 non-null   float64\n",
      " 3   total_seed         2344 non-null   int64  \n",
      " 4   survival_rate(%)   2344 non-null   float64\n",
      " 5   avg_pond_length    2344 non-null   float64\n",
      " 6   avg_pond_width     2344 non-null   float64\n",
      " 7   avg_pond_depth     2344 non-null   float64\n",
      " 8   long_cycle(day)    2344 non-null   int64  \n",
      " 9   total_feed(kg)     2344 non-null   float64\n",
      " 10  avg_tray_number    2344 non-null   float64\n",
      " 11  avg_feed_remain%   2344 non-null   float64\n",
      " 12  count_fasting      2344 non-null   float64\n",
      " 13  total_mortal       2344 non-null   float64\n",
      " 14  avg_weight_mortal  2344 non-null   float64\n",
      " 15  avg_weight_sample  2344 non-null   float64\n",
      "dtypes: float64(12), int64(4)\n",
      "memory usage: 293.1 KB\n"
     ]
    }
   ],
   "source": [
    "df.info()"
   ]
  },
  {
   "cell_type": "code",
   "execution_count": 5,
   "metadata": {},
   "outputs": [
    {
     "data": {
      "text/plain": [
       "Unnamed: 0           0\n",
       "cycle_id             0\n",
       "total_harvest(kg)    0\n",
       "total_seed           0\n",
       "survival_rate(%)     0\n",
       "avg_pond_length      0\n",
       "avg_pond_width       0\n",
       "avg_pond_depth       0\n",
       "long_cycle(day)      0\n",
       "total_feed(kg)       0\n",
       "avg_tray_number      0\n",
       "avg_feed_remain%     0\n",
       "count_fasting        0\n",
       "total_mortal         0\n",
       "avg_weight_mortal    0\n",
       "avg_weight_sample    0\n",
       "dtype: int64"
      ]
     },
     "execution_count": 5,
     "metadata": {},
     "output_type": "execute_result"
    }
   ],
   "source": [
    "df.isnull().sum()"
   ]
  },
  {
   "cell_type": "code",
   "execution_count": 6,
   "metadata": {},
   "outputs": [
    {
     "data": {
      "text/plain": [
       "0"
      ]
     },
     "execution_count": 6,
     "metadata": {},
     "output_type": "execute_result"
    }
   ],
   "source": [
    "df.duplicated().sum()"
   ]
  },
  {
   "cell_type": "code",
   "execution_count": 7,
   "metadata": {},
   "outputs": [
    {
     "data": {
      "text/html": [
       "<div>\n",
       "<style scoped>\n",
       "    .dataframe tbody tr th:only-of-type {\n",
       "        vertical-align: middle;\n",
       "    }\n",
       "\n",
       "    .dataframe tbody tr th {\n",
       "        vertical-align: top;\n",
       "    }\n",
       "\n",
       "    .dataframe thead th {\n",
       "        text-align: right;\n",
       "    }\n",
       "</style>\n",
       "<table border=\"1\" class=\"dataframe\">\n",
       "  <thead>\n",
       "    <tr style=\"text-align: right;\">\n",
       "      <th></th>\n",
       "      <th>Unnamed: 0</th>\n",
       "      <th>cycle_id</th>\n",
       "      <th>total_harvest(kg)</th>\n",
       "      <th>total_seed</th>\n",
       "      <th>survival_rate(%)</th>\n",
       "      <th>avg_pond_length</th>\n",
       "      <th>avg_pond_width</th>\n",
       "      <th>avg_pond_depth</th>\n",
       "      <th>long_cycle(day)</th>\n",
       "      <th>total_feed(kg)</th>\n",
       "      <th>avg_tray_number</th>\n",
       "      <th>avg_feed_remain%</th>\n",
       "      <th>count_fasting</th>\n",
       "      <th>total_mortal</th>\n",
       "      <th>avg_weight_mortal</th>\n",
       "      <th>avg_weight_sample</th>\n",
       "    </tr>\n",
       "  </thead>\n",
       "  <tbody>\n",
       "    <tr>\n",
       "      <th>3</th>\n",
       "      <td>3</td>\n",
       "      <td>4038</td>\n",
       "      <td>405078.84</td>\n",
       "      <td>350000</td>\n",
       "      <td>115.74</td>\n",
       "      <td>60.00</td>\n",
       "      <td>45.00</td>\n",
       "      <td>1.5</td>\n",
       "      <td>94</td>\n",
       "      <td>7790.60</td>\n",
       "      <td>0.0</td>\n",
       "      <td>0.0</td>\n",
       "      <td>0.0</td>\n",
       "      <td>0.0</td>\n",
       "      <td>0.0</td>\n",
       "      <td>10.585366</td>\n",
       "    </tr>\n",
       "    <tr>\n",
       "      <th>4</th>\n",
       "      <td>4</td>\n",
       "      <td>4039</td>\n",
       "      <td>219808.62</td>\n",
       "      <td>210000</td>\n",
       "      <td>104.67</td>\n",
       "      <td>37.06</td>\n",
       "      <td>27.79</td>\n",
       "      <td>1.9</td>\n",
       "      <td>94</td>\n",
       "      <td>3770.50</td>\n",
       "      <td>0.0</td>\n",
       "      <td>0.0</td>\n",
       "      <td>0.0</td>\n",
       "      <td>0.0</td>\n",
       "      <td>0.0</td>\n",
       "      <td>10.881250</td>\n",
       "    </tr>\n",
       "    <tr>\n",
       "      <th>16</th>\n",
       "      <td>16</td>\n",
       "      <td>4254</td>\n",
       "      <td>301500.00</td>\n",
       "      <td>300000</td>\n",
       "      <td>100.50</td>\n",
       "      <td>0.00</td>\n",
       "      <td>0.00</td>\n",
       "      <td>0.0</td>\n",
       "      <td>30</td>\n",
       "      <td>597.00</td>\n",
       "      <td>0.0</td>\n",
       "      <td>0.0</td>\n",
       "      <td>1.0</td>\n",
       "      <td>0.0</td>\n",
       "      <td>0.0</td>\n",
       "      <td>0.000000</td>\n",
       "    </tr>\n",
       "    <tr>\n",
       "      <th>18</th>\n",
       "      <td>18</td>\n",
       "      <td>4349</td>\n",
       "      <td>112000.00</td>\n",
       "      <td>80000</td>\n",
       "      <td>140.00</td>\n",
       "      <td>20.00</td>\n",
       "      <td>20.00</td>\n",
       "      <td>1.5</td>\n",
       "      <td>54</td>\n",
       "      <td>816.50</td>\n",
       "      <td>0.0</td>\n",
       "      <td>0.0</td>\n",
       "      <td>0.0</td>\n",
       "      <td>0.0</td>\n",
       "      <td>0.0</td>\n",
       "      <td>0.000000</td>\n",
       "    </tr>\n",
       "    <tr>\n",
       "      <th>26</th>\n",
       "      <td>26</td>\n",
       "      <td>4552</td>\n",
       "      <td>12800.00</td>\n",
       "      <td>12000</td>\n",
       "      <td>106.67</td>\n",
       "      <td>4.00</td>\n",
       "      <td>6.00</td>\n",
       "      <td>1.2</td>\n",
       "      <td>37</td>\n",
       "      <td>32.62</td>\n",
       "      <td>0.0</td>\n",
       "      <td>0.0</td>\n",
       "      <td>0.0</td>\n",
       "      <td>0.0</td>\n",
       "      <td>0.0</td>\n",
       "      <td>0.000000</td>\n",
       "    </tr>\n",
       "    <tr>\n",
       "      <th>...</th>\n",
       "      <td>...</td>\n",
       "      <td>...</td>\n",
       "      <td>...</td>\n",
       "      <td>...</td>\n",
       "      <td>...</td>\n",
       "      <td>...</td>\n",
       "      <td>...</td>\n",
       "      <td>...</td>\n",
       "      <td>...</td>\n",
       "      <td>...</td>\n",
       "      <td>...</td>\n",
       "      <td>...</td>\n",
       "      <td>...</td>\n",
       "      <td>...</td>\n",
       "      <td>...</td>\n",
       "      <td>...</td>\n",
       "    </tr>\n",
       "    <tr>\n",
       "      <th>2329</th>\n",
       "      <td>2329</td>\n",
       "      <td>29393</td>\n",
       "      <td>56280.00</td>\n",
       "      <td>50000</td>\n",
       "      <td>112.56</td>\n",
       "      <td>26.00</td>\n",
       "      <td>25.00</td>\n",
       "      <td>1.2</td>\n",
       "      <td>50</td>\n",
       "      <td>578.90</td>\n",
       "      <td>0.0</td>\n",
       "      <td>0.0</td>\n",
       "      <td>0.0</td>\n",
       "      <td>120.0</td>\n",
       "      <td>18.0</td>\n",
       "      <td>8.300000</td>\n",
       "    </tr>\n",
       "    <tr>\n",
       "      <th>2332</th>\n",
       "      <td>2332</td>\n",
       "      <td>29451</td>\n",
       "      <td>156250.00</td>\n",
       "      <td>150000</td>\n",
       "      <td>104.17</td>\n",
       "      <td>20.00</td>\n",
       "      <td>20.00</td>\n",
       "      <td>1.5</td>\n",
       "      <td>53</td>\n",
       "      <td>1052.00</td>\n",
       "      <td>0.0</td>\n",
       "      <td>0.0</td>\n",
       "      <td>9.0</td>\n",
       "      <td>0.0</td>\n",
       "      <td>0.0</td>\n",
       "      <td>5.463333</td>\n",
       "    </tr>\n",
       "    <tr>\n",
       "      <th>2335</th>\n",
       "      <td>2335</td>\n",
       "      <td>29518</td>\n",
       "      <td>46200.00</td>\n",
       "      <td>40000</td>\n",
       "      <td>115.50</td>\n",
       "      <td>22.00</td>\n",
       "      <td>17.00</td>\n",
       "      <td>1.0</td>\n",
       "      <td>48</td>\n",
       "      <td>358.30</td>\n",
       "      <td>0.0</td>\n",
       "      <td>0.0</td>\n",
       "      <td>3.0</td>\n",
       "      <td>0.0</td>\n",
       "      <td>0.0</td>\n",
       "      <td>7.140000</td>\n",
       "    </tr>\n",
       "    <tr>\n",
       "      <th>2339</th>\n",
       "      <td>2339</td>\n",
       "      <td>29619</td>\n",
       "      <td>137250.00</td>\n",
       "      <td>70000</td>\n",
       "      <td>196.07</td>\n",
       "      <td>24.00</td>\n",
       "      <td>9.00</td>\n",
       "      <td>1.2</td>\n",
       "      <td>49</td>\n",
       "      <td>1043.40</td>\n",
       "      <td>1.0</td>\n",
       "      <td>0.0</td>\n",
       "      <td>1.0</td>\n",
       "      <td>0.0</td>\n",
       "      <td>0.0</td>\n",
       "      <td>5.635000</td>\n",
       "    </tr>\n",
       "    <tr>\n",
       "      <th>2341</th>\n",
       "      <td>2341</td>\n",
       "      <td>29679</td>\n",
       "      <td>32187.00</td>\n",
       "      <td>26671</td>\n",
       "      <td>120.68</td>\n",
       "      <td>10.00</td>\n",
       "      <td>10.00</td>\n",
       "      <td>2.5</td>\n",
       "      <td>42</td>\n",
       "      <td>488.35</td>\n",
       "      <td>0.0</td>\n",
       "      <td>0.0</td>\n",
       "      <td>0.0</td>\n",
       "      <td>0.0</td>\n",
       "      <td>0.0</td>\n",
       "      <td>19.534000</td>\n",
       "    </tr>\n",
       "  </tbody>\n",
       "</table>\n",
       "<p>476 rows × 16 columns</p>\n",
       "</div>"
      ],
      "text/plain": [
       "      Unnamed: 0  cycle_id  total_harvest(kg)  total_seed  survival_rate(%)  \\\n",
       "3              3      4038          405078.84      350000            115.74   \n",
       "4              4      4039          219808.62      210000            104.67   \n",
       "16            16      4254          301500.00      300000            100.50   \n",
       "18            18      4349          112000.00       80000            140.00   \n",
       "26            26      4552           12800.00       12000            106.67   \n",
       "...          ...       ...                ...         ...               ...   \n",
       "2329        2329     29393           56280.00       50000            112.56   \n",
       "2332        2332     29451          156250.00      150000            104.17   \n",
       "2335        2335     29518           46200.00       40000            115.50   \n",
       "2339        2339     29619          137250.00       70000            196.07   \n",
       "2341        2341     29679           32187.00       26671            120.68   \n",
       "\n",
       "      avg_pond_length  avg_pond_width  avg_pond_depth  long_cycle(day)  \\\n",
       "3               60.00           45.00             1.5               94   \n",
       "4               37.06           27.79             1.9               94   \n",
       "16               0.00            0.00             0.0               30   \n",
       "18              20.00           20.00             1.5               54   \n",
       "26               4.00            6.00             1.2               37   \n",
       "...               ...             ...             ...              ...   \n",
       "2329            26.00           25.00             1.2               50   \n",
       "2332            20.00           20.00             1.5               53   \n",
       "2335            22.00           17.00             1.0               48   \n",
       "2339            24.00            9.00             1.2               49   \n",
       "2341            10.00           10.00             2.5               42   \n",
       "\n",
       "      total_feed(kg)  avg_tray_number  avg_feed_remain%  count_fasting  \\\n",
       "3            7790.60              0.0               0.0            0.0   \n",
       "4            3770.50              0.0               0.0            0.0   \n",
       "16            597.00              0.0               0.0            1.0   \n",
       "18            816.50              0.0               0.0            0.0   \n",
       "26             32.62              0.0               0.0            0.0   \n",
       "...              ...              ...               ...            ...   \n",
       "2329          578.90              0.0               0.0            0.0   \n",
       "2332         1052.00              0.0               0.0            9.0   \n",
       "2335          358.30              0.0               0.0            3.0   \n",
       "2339         1043.40              1.0               0.0            1.0   \n",
       "2341          488.35              0.0               0.0            0.0   \n",
       "\n",
       "      total_mortal  avg_weight_mortal  avg_weight_sample  \n",
       "3              0.0                0.0          10.585366  \n",
       "4              0.0                0.0          10.881250  \n",
       "16             0.0                0.0           0.000000  \n",
       "18             0.0                0.0           0.000000  \n",
       "26             0.0                0.0           0.000000  \n",
       "...            ...                ...                ...  \n",
       "2329         120.0               18.0           8.300000  \n",
       "2332           0.0                0.0           5.463333  \n",
       "2335           0.0                0.0           7.140000  \n",
       "2339           0.0                0.0           5.635000  \n",
       "2341           0.0                0.0          19.534000  \n",
       "\n",
       "[476 rows x 16 columns]"
      ]
     },
     "execution_count": 7,
     "metadata": {},
     "output_type": "execute_result"
    }
   ],
   "source": [
    "# Anomali, selanjutnya akan di drop\n",
    "df[df['survival_rate(%)'] > 100]"
   ]
  },
  {
   "cell_type": "markdown",
   "metadata": {},
   "source": [
    "# Model"
   ]
  },
  {
   "cell_type": "code",
   "execution_count": 8,
   "metadata": {},
   "outputs": [],
   "source": [
    "# filtered data\n",
    "df_model = df[df['survival_rate(%)'] < 100].drop(['Unnamed: 0','cycle_id'],axis=1)\n",
    "\n",
    "# variable\n",
    "x = df_model.drop(['survival_rate(%)'],axis=1)\n",
    "y = df_model[['survival_rate(%)']]\n",
    "\n",
    "# split data \n",
    "x_train, x_test, y_train, y_test = train_test_split(x, y, test_size=0.2, random_state=7)"
   ]
  },
  {
   "cell_type": "code",
   "execution_count": 9,
   "metadata": {},
   "outputs": [],
   "source": [
    "model_xgb = xgb.XGBRegressor(\n",
    "    base_score=0.5, \n",
    "    booster='gbtree',    \n",
    "    n_estimators=1000,\n",
    "    early_stopping_rounds=50,\n",
    "    objective='reg:squarederror',\n",
    "    max_depth=3,\n",
    "    learning_rate=0.01\n",
    "    )"
   ]
  },
  {
   "cell_type": "code",
   "execution_count": 10,
   "metadata": {},
   "outputs": [
    {
     "name": "stdout",
     "output_type": "stream",
     "text": [
      "[06:08:20] WARNING: C:/Users/Administrator/workspace/xgboost-win64_release_1.4.0/src/learner.cc:573: \n",
      "Parameters: { \"early_stopping_rounds\" } might not be used.\n",
      "\n",
      "  This may not be accurate due to some parameters are only used in language bindings but\n",
      "  passed down to XGBoost core.  Or some parameters are not used but slip through this\n",
      "  verification. Please open an issue if you find above cases.\n",
      "\n",
      "\n"
     ]
    },
    {
     "data": {
      "text/plain": [
       "XGBRegressor(base_score=0.5, booster='gbtree', colsample_bylevel=1,\n",
       "             colsample_bynode=1, colsample_bytree=1, early_stopping_rounds=50,\n",
       "             gamma=0, gpu_id=-1, importance_type='gain',\n",
       "             interaction_constraints='', learning_rate=0.01, max_delta_step=0,\n",
       "             max_depth=3, min_child_weight=1, missing=nan,\n",
       "             monotone_constraints='()', n_estimators=1000, n_jobs=12,\n",
       "             num_parallel_tree=1, random_state=0, reg_alpha=0, reg_lambda=1,\n",
       "             scale_pos_weight=1, subsample=1, tree_method='exact',\n",
       "             validate_parameters=1, verbosity=None)"
      ]
     },
     "execution_count": 10,
     "metadata": {},
     "output_type": "execute_result"
    }
   ],
   "source": [
    "model_xgb.fit(x_train, y_train)"
   ]
  },
  {
   "cell_type": "code",
   "execution_count": 11,
   "metadata": {},
   "outputs": [
    {
     "data": {
      "text/html": [
       "<div>\n",
       "<style scoped>\n",
       "    .dataframe tbody tr th:only-of-type {\n",
       "        vertical-align: middle;\n",
       "    }\n",
       "\n",
       "    .dataframe tbody tr th {\n",
       "        vertical-align: top;\n",
       "    }\n",
       "\n",
       "    .dataframe thead th {\n",
       "        text-align: right;\n",
       "    }\n",
       "</style>\n",
       "<table border=\"1\" class=\"dataframe\">\n",
       "  <thead>\n",
       "    <tr style=\"text-align: right;\">\n",
       "      <th></th>\n",
       "      <th>survival_rate(%)</th>\n",
       "      <th>pred</th>\n",
       "      <th>ape</th>\n",
       "    </tr>\n",
       "  </thead>\n",
       "  <tbody>\n",
       "    <tr>\n",
       "      <th>313</th>\n",
       "      <td>49.68</td>\n",
       "      <td>49.904808</td>\n",
       "      <td>0.452512</td>\n",
       "    </tr>\n",
       "    <tr>\n",
       "      <th>839</th>\n",
       "      <td>94.09</td>\n",
       "      <td>88.680016</td>\n",
       "      <td>5.749797</td>\n",
       "    </tr>\n",
       "    <tr>\n",
       "      <th>384</th>\n",
       "      <td>99.46</td>\n",
       "      <td>88.549873</td>\n",
       "      <td>10.969361</td>\n",
       "    </tr>\n",
       "    <tr>\n",
       "      <th>2295</th>\n",
       "      <td>58.04</td>\n",
       "      <td>59.349060</td>\n",
       "      <td>2.255445</td>\n",
       "    </tr>\n",
       "    <tr>\n",
       "      <th>1824</th>\n",
       "      <td>57.30</td>\n",
       "      <td>60.746620</td>\n",
       "      <td>6.015044</td>\n",
       "    </tr>\n",
       "    <tr>\n",
       "      <th>...</th>\n",
       "      <td>...</td>\n",
       "      <td>...</td>\n",
       "      <td>...</td>\n",
       "    </tr>\n",
       "    <tr>\n",
       "      <th>1801</th>\n",
       "      <td>33.97</td>\n",
       "      <td>36.472164</td>\n",
       "      <td>7.365806</td>\n",
       "    </tr>\n",
       "    <tr>\n",
       "      <th>380</th>\n",
       "      <td>75.70</td>\n",
       "      <td>80.338318</td>\n",
       "      <td>6.127236</td>\n",
       "    </tr>\n",
       "    <tr>\n",
       "      <th>532</th>\n",
       "      <td>61.10</td>\n",
       "      <td>63.058968</td>\n",
       "      <td>3.206166</td>\n",
       "    </tr>\n",
       "    <tr>\n",
       "      <th>371</th>\n",
       "      <td>91.04</td>\n",
       "      <td>79.763229</td>\n",
       "      <td>12.386611</td>\n",
       "    </tr>\n",
       "    <tr>\n",
       "      <th>909</th>\n",
       "      <td>32.50</td>\n",
       "      <td>36.984085</td>\n",
       "      <td>13.797185</td>\n",
       "    </tr>\n",
       "  </tbody>\n",
       "</table>\n",
       "<p>373 rows × 3 columns</p>\n",
       "</div>"
      ],
      "text/plain": [
       "      survival_rate(%)       pred        ape\n",
       "313              49.68  49.904808   0.452512\n",
       "839              94.09  88.680016   5.749797\n",
       "384              99.46  88.549873  10.969361\n",
       "2295             58.04  59.349060   2.255445\n",
       "1824             57.30  60.746620   6.015044\n",
       "...                ...        ...        ...\n",
       "1801             33.97  36.472164   7.365806\n",
       "380              75.70  80.338318   6.127236\n",
       "532              61.10  63.058968   3.206166\n",
       "371              91.04  79.763229  12.386611\n",
       "909              32.50  36.984085  13.797185\n",
       "\n",
       "[373 rows x 3 columns]"
      ]
     },
     "execution_count": 11,
     "metadata": {},
     "output_type": "execute_result"
    }
   ],
   "source": [
    "y_pred = model_xgb.predict(x_test)\n",
    "\n",
    "df_pred = y_test.copy()\n",
    "df_pred['pred'] = y_pred\n",
    "df_pred['ape'] = (abs(df_pred[y.columns[0]] - df_pred.pred)/df_pred[y.columns[0]]*100)\n",
    "\n",
    "df_pred"
   ]
  },
  {
   "cell_type": "code",
   "execution_count": 12,
   "metadata": {},
   "outputs": [
    {
     "name": "stdout",
     "output_type": "stream",
     "text": [
      "RMSE: 5.4025\n",
      "MDAPE: 5.65 %\n"
     ]
    }
   ],
   "source": [
    "rmse = round(np.sqrt(mean_squared_error(y_test, y_pred)),4)\n",
    "mdape = round(df_pred.ape.median(),2)\n",
    "\n",
    "print(f\"RMSE: {rmse}\")\n",
    "print(f\"MDAPE: {mdape} %\")"
   ]
  },
  {
   "cell_type": "markdown",
   "metadata": {},
   "source": [
    "**__Catatan__** : <p>\n",
    "Berdasarkan hasil evaluasi, didapatkan hasil rmse dan mdape, umumnya selisih error yang dihasilkan model sebesar 5% dari data aktual"
   ]
  },
  {
   "cell_type": "markdown",
   "metadata": {},
   "source": [
    "- Cross Validation "
   ]
  },
  {
   "cell_type": "code",
   "execution_count": 13,
   "metadata": {},
   "outputs": [
    {
     "name": "stdout",
     "output_type": "stream",
     "text": [
      "[06:08:21] WARNING: C:/Users/Administrator/workspace/xgboost-win64_release_1.4.0/src/learner.cc:573: \n",
      "Parameters: { \"early_stopping_rounds\" } might not be used.\n",
      "\n",
      "  This may not be accurate due to some parameters are only used in language bindings but\n",
      "  passed down to XGBoost core.  Or some parameters are not used but slip through this\n",
      "  verification. Please open an issue if you find above cases.\n",
      "\n",
      "\n",
      "[06:08:22] WARNING: C:/Users/Administrator/workspace/xgboost-win64_release_1.4.0/src/learner.cc:573: \n",
      "Parameters: { \"early_stopping_rounds\" } might not be used.\n",
      "\n",
      "  This may not be accurate due to some parameters are only used in language bindings but\n",
      "  passed down to XGBoost core.  Or some parameters are not used but slip through this\n",
      "  verification. Please open an issue if you find above cases.\n",
      "\n",
      "\n",
      "[06:08:23] WARNING: C:/Users/Administrator/workspace/xgboost-win64_release_1.4.0/src/learner.cc:573: \n",
      "Parameters: { \"early_stopping_rounds\" } might not be used.\n",
      "\n",
      "  This may not be accurate due to some parameters are only used in language bindings but\n",
      "  passed down to XGBoost core.  Or some parameters are not used but slip through this\n",
      "  verification. Please open an issue if you find above cases.\n",
      "\n",
      "\n",
      "[06:08:24] WARNING: C:/Users/Administrator/workspace/xgboost-win64_release_1.4.0/src/learner.cc:573: \n",
      "Parameters: { \"early_stopping_rounds\" } might not be used.\n",
      "\n",
      "  This may not be accurate due to some parameters are only used in language bindings but\n",
      "  passed down to XGBoost core.  Or some parameters are not used but slip through this\n",
      "  verification. Please open an issue if you find above cases.\n",
      "\n",
      "\n",
      "[06:08:25] WARNING: C:/Users/Administrator/workspace/xgboost-win64_release_1.4.0/src/learner.cc:573: \n",
      "Parameters: { \"early_stopping_rounds\" } might not be used.\n",
      "\n",
      "  This may not be accurate due to some parameters are only used in language bindings but\n",
      "  passed down to XGBoost core.  Or some parameters are not used but slip through this\n",
      "  verification. Please open an issue if you find above cases.\n",
      "\n",
      "\n"
     ]
    }
   ],
   "source": [
    "def rmse(y_test, y_pred):\n",
    "    return round(np.sqrt(mean_squared_error(y_test, y_pred)),4)\n",
    "\n",
    "rmse_scorer = make_scorer(rmse)\n",
    "\n",
    "rmse_cv = cross_val_score(model_xgb, x, y, cv=5, scoring=rmse_scorer)"
   ]
  },
  {
   "cell_type": "code",
   "execution_count": 14,
   "metadata": {},
   "outputs": [
    {
     "data": {
      "text/plain": [
       "array([10.942 ,  5.2012,  4.5583,  4.843 ,  6.3109])"
      ]
     },
     "execution_count": 14,
     "metadata": {},
     "output_type": "execute_result"
    }
   ],
   "source": [
    "rmse_cv"
   ]
  },
  {
   "cell_type": "markdown",
   "metadata": {},
   "source": [
    "**__Catatan__** : <p>\n",
    "Berdasarkan hasil evaluasi, didapatkan hasil rmse yang cukup baik dengan cross validation dengan selisih 4 s/d 12 % "
   ]
  },
  {
   "cell_type": "markdown",
   "metadata": {},
   "source": [
    "# Features Selection"
   ]
  },
  {
   "cell_type": "code",
   "execution_count": 15,
   "metadata": {},
   "outputs": [
    {
     "data": {
      "text/plain": [
       "survival_rate(%)     1.000000\n",
       "total_harvest(kg)    0.603732\n",
       "total_feed(kg)       0.347889\n",
       "long_cycle(day)      0.232922\n",
       "avg_weight_sample    0.168640\n",
       "total_seed           0.155158\n",
       "avg_pond_depth       0.099701\n",
       "avg_pond_width       0.051408\n",
       "avg_tray_number     -0.028454\n",
       "avg_feed_remain%    -0.041668\n",
       "avg_weight_mortal   -0.053748\n",
       "avg_pond_length     -0.074390\n",
       "total_mortal        -0.120099\n",
       "count_fasting       -0.176216\n",
       "Name: survival_rate(%), dtype: float64"
      ]
     },
     "execution_count": 15,
     "metadata": {},
     "output_type": "execute_result"
    }
   ],
   "source": [
    "df_model.corr('spearman')['survival_rate(%)'].sort_values(ascending=False)"
   ]
  },
  {
   "cell_type": "markdown",
   "metadata": {},
   "source": [
    "**__Catatan__** : <p>\n",
    "Berdasarkan hasil korelasi, akan fokus pada fitur dengan tingkat korelasi > 0,10"
   ]
  },
  {
   "cell_type": "code",
   "execution_count": 16,
   "metadata": {},
   "outputs": [],
   "source": [
    "# drop features\n",
    "x_new = x.drop(['avg_pond_depth', 'avg_pond_width', 'avg_tray_number', 'avg_feed_remain%','avg_weight_mortal','avg_pond_length'],axis=1)\n",
    "\n",
    "# split data \n",
    "x_train, x_test, y_train, y_test = train_test_split(x_new, y, test_size=0.2, random_state=7)"
   ]
  },
  {
   "cell_type": "code",
   "execution_count": 17,
   "metadata": {},
   "outputs": [
    {
     "data": {
      "text/plain": [
       "['total_harvest(kg)',\n",
       " 'total_seed',\n",
       " 'long_cycle(day)',\n",
       " 'total_feed(kg)',\n",
       " 'count_fasting',\n",
       " 'total_mortal',\n",
       " 'avg_weight_sample']"
      ]
     },
     "execution_count": 17,
     "metadata": {},
     "output_type": "execute_result"
    }
   ],
   "source": [
    "x_new.columns.tolist()"
   ]
  },
  {
   "cell_type": "code",
   "execution_count": 18,
   "metadata": {},
   "outputs": [
    {
     "name": "stdout",
     "output_type": "stream",
     "text": [
      "[06:08:26] WARNING: C:/Users/Administrator/workspace/xgboost-win64_release_1.4.0/src/learner.cc:573: \n",
      "Parameters: { \"early_stopping_rounds\" } might not be used.\n",
      "\n",
      "  This may not be accurate due to some parameters are only used in language bindings but\n",
      "  passed down to XGBoost core.  Or some parameters are not used but slip through this\n",
      "  verification. Please open an issue if you find above cases.\n",
      "\n",
      "\n"
     ]
    },
    {
     "data": {
      "text/plain": [
       "XGBRegressor(base_score=0.5, booster='gbtree', colsample_bylevel=1,\n",
       "             colsample_bynode=1, colsample_bytree=1, early_stopping_rounds=50,\n",
       "             gamma=0, gpu_id=-1, importance_type='gain',\n",
       "             interaction_constraints='', learning_rate=0.01, max_delta_step=0,\n",
       "             max_depth=3, min_child_weight=1, missing=nan,\n",
       "             monotone_constraints='()', n_estimators=1000, n_jobs=12,\n",
       "             num_parallel_tree=1, random_state=0, reg_alpha=0, reg_lambda=1,\n",
       "             scale_pos_weight=1, subsample=1, tree_method='exact',\n",
       "             validate_parameters=1, verbosity=None)"
      ]
     },
     "execution_count": 18,
     "metadata": {},
     "output_type": "execute_result"
    }
   ],
   "source": [
    "model_xgb.fit(x_train, y_train)"
   ]
  },
  {
   "cell_type": "code",
   "execution_count": 19,
   "metadata": {},
   "outputs": [
    {
     "data": {
      "text/html": [
       "<div>\n",
       "<style scoped>\n",
       "    .dataframe tbody tr th:only-of-type {\n",
       "        vertical-align: middle;\n",
       "    }\n",
       "\n",
       "    .dataframe tbody tr th {\n",
       "        vertical-align: top;\n",
       "    }\n",
       "\n",
       "    .dataframe thead th {\n",
       "        text-align: right;\n",
       "    }\n",
       "</style>\n",
       "<table border=\"1\" class=\"dataframe\">\n",
       "  <thead>\n",
       "    <tr style=\"text-align: right;\">\n",
       "      <th></th>\n",
       "      <th>survival_rate(%)</th>\n",
       "      <th>pred</th>\n",
       "      <th>ape</th>\n",
       "    </tr>\n",
       "  </thead>\n",
       "  <tbody>\n",
       "    <tr>\n",
       "      <th>313</th>\n",
       "      <td>49.68</td>\n",
       "      <td>49.739861</td>\n",
       "      <td>0.120492</td>\n",
       "    </tr>\n",
       "    <tr>\n",
       "      <th>839</th>\n",
       "      <td>94.09</td>\n",
       "      <td>89.048149</td>\n",
       "      <td>5.358541</td>\n",
       "    </tr>\n",
       "    <tr>\n",
       "      <th>384</th>\n",
       "      <td>99.46</td>\n",
       "      <td>88.223701</td>\n",
       "      <td>11.297304</td>\n",
       "    </tr>\n",
       "    <tr>\n",
       "      <th>2295</th>\n",
       "      <td>58.04</td>\n",
       "      <td>59.592106</td>\n",
       "      <td>2.674200</td>\n",
       "    </tr>\n",
       "    <tr>\n",
       "      <th>1824</th>\n",
       "      <td>57.30</td>\n",
       "      <td>62.059013</td>\n",
       "      <td>8.305433</td>\n",
       "    </tr>\n",
       "    <tr>\n",
       "      <th>...</th>\n",
       "      <td>...</td>\n",
       "      <td>...</td>\n",
       "      <td>...</td>\n",
       "    </tr>\n",
       "    <tr>\n",
       "      <th>1801</th>\n",
       "      <td>33.97</td>\n",
       "      <td>35.208714</td>\n",
       "      <td>3.646493</td>\n",
       "    </tr>\n",
       "    <tr>\n",
       "      <th>380</th>\n",
       "      <td>75.70</td>\n",
       "      <td>80.031303</td>\n",
       "      <td>5.721669</td>\n",
       "    </tr>\n",
       "    <tr>\n",
       "      <th>532</th>\n",
       "      <td>61.10</td>\n",
       "      <td>63.156460</td>\n",
       "      <td>3.365728</td>\n",
       "    </tr>\n",
       "    <tr>\n",
       "      <th>371</th>\n",
       "      <td>91.04</td>\n",
       "      <td>79.245377</td>\n",
       "      <td>12.955430</td>\n",
       "    </tr>\n",
       "    <tr>\n",
       "      <th>909</th>\n",
       "      <td>32.50</td>\n",
       "      <td>35.192818</td>\n",
       "      <td>8.285593</td>\n",
       "    </tr>\n",
       "  </tbody>\n",
       "</table>\n",
       "<p>373 rows × 3 columns</p>\n",
       "</div>"
      ],
      "text/plain": [
       "      survival_rate(%)       pred        ape\n",
       "313              49.68  49.739861   0.120492\n",
       "839              94.09  89.048149   5.358541\n",
       "384              99.46  88.223701  11.297304\n",
       "2295             58.04  59.592106   2.674200\n",
       "1824             57.30  62.059013   8.305433\n",
       "...                ...        ...        ...\n",
       "1801             33.97  35.208714   3.646493\n",
       "380              75.70  80.031303   5.721669\n",
       "532              61.10  63.156460   3.365728\n",
       "371              91.04  79.245377  12.955430\n",
       "909              32.50  35.192818   8.285593\n",
       "\n",
       "[373 rows x 3 columns]"
      ]
     },
     "execution_count": 19,
     "metadata": {},
     "output_type": "execute_result"
    }
   ],
   "source": [
    "y_pred = model_xgb.predict(x_test)\n",
    "\n",
    "df_pred = y_test.copy()\n",
    "df_pred['pred'] = y_pred\n",
    "df_pred['ape'] = (abs(df_pred[y.columns[0]] - df_pred.pred)/df_pred[y.columns[0]]*100)\n",
    "\n",
    "df_pred"
   ]
  },
  {
   "cell_type": "code",
   "execution_count": 20,
   "metadata": {},
   "outputs": [
    {
     "name": "stdout",
     "output_type": "stream",
     "text": [
      "RMSE: 5.2083\n",
      "MDAPE: 5.36 %\n"
     ]
    }
   ],
   "source": [
    "rmse = round(np.sqrt(mean_squared_error(y_test, y_pred)),4)\n",
    "mdape = round(df_pred.ape.median(),2)\n",
    "\n",
    "print(f\"RMSE: {rmse}\")\n",
    "print(f\"MDAPE: {mdape} %\")"
   ]
  },
  {
   "cell_type": "code",
   "execution_count": 21,
   "metadata": {},
   "outputs": [
    {
     "name": "stdout",
     "output_type": "stream",
     "text": [
      "[06:08:27] WARNING: C:/Users/Administrator/workspace/xgboost-win64_release_1.4.0/src/learner.cc:573: \n",
      "Parameters: { \"early_stopping_rounds\" } might not be used.\n",
      "\n",
      "  This may not be accurate due to some parameters are only used in language bindings but\n",
      "  passed down to XGBoost core.  Or some parameters are not used but slip through this\n",
      "  verification. Please open an issue if you find above cases.\n",
      "\n",
      "\n",
      "[06:08:28] WARNING: C:/Users/Administrator/workspace/xgboost-win64_release_1.4.0/src/learner.cc:573: \n",
      "Parameters: { \"early_stopping_rounds\" } might not be used.\n",
      "\n",
      "  This may not be accurate due to some parameters are only used in language bindings but\n",
      "  passed down to XGBoost core.  Or some parameters are not used but slip through this\n",
      "  verification. Please open an issue if you find above cases.\n",
      "\n",
      "\n",
      "[06:08:28] WARNING: C:/Users/Administrator/workspace/xgboost-win64_release_1.4.0/src/learner.cc:573: \n",
      "Parameters: { \"early_stopping_rounds\" } might not be used.\n",
      "\n",
      "  This may not be accurate due to some parameters are only used in language bindings but\n",
      "  passed down to XGBoost core.  Or some parameters are not used but slip through this\n",
      "  verification. Please open an issue if you find above cases.\n",
      "\n",
      "\n",
      "[06:08:29] WARNING: C:/Users/Administrator/workspace/xgboost-win64_release_1.4.0/src/learner.cc:573: \n",
      "Parameters: { \"early_stopping_rounds\" } might not be used.\n",
      "\n",
      "  This may not be accurate due to some parameters are only used in language bindings but\n",
      "  passed down to XGBoost core.  Or some parameters are not used but slip through this\n",
      "  verification. Please open an issue if you find above cases.\n",
      "\n",
      "\n",
      "[06:08:30] WARNING: C:/Users/Administrator/workspace/xgboost-win64_release_1.4.0/src/learner.cc:573: \n",
      "Parameters: { \"early_stopping_rounds\" } might not be used.\n",
      "\n",
      "  This may not be accurate due to some parameters are only used in language bindings but\n",
      "  passed down to XGBoost core.  Or some parameters are not used but slip through this\n",
      "  verification. Please open an issue if you find above cases.\n",
      "\n",
      "\n"
     ]
    }
   ],
   "source": [
    "rmse_cv = cross_val_score(model_xgb, x_new, y, cv=5, scoring=rmse_scorer)"
   ]
  },
  {
   "cell_type": "code",
   "execution_count": 22,
   "metadata": {},
   "outputs": [
    {
     "data": {
      "text/plain": [
       "array([10.0543,  5.066 ,  4.4903,  5.4139,  5.9981])"
      ]
     },
     "execution_count": 22,
     "metadata": {},
     "output_type": "execute_result"
    }
   ],
   "source": [
    "rmse_cv"
   ]
  },
  {
   "cell_type": "markdown",
   "metadata": {},
   "source": [
    "**__Catatan__** : <p>\n",
    "Berdasarkan hasil evaluasi, model setelah feature selection lebih baik "
   ]
  },
  {
   "cell_type": "markdown",
   "metadata": {},
   "source": [
    "# Pickel Model"
   ]
  },
  {
   "cell_type": "code",
   "execution_count": null,
   "metadata": {},
   "outputs": [],
   "source": [
    "with open('model_xgb.pkl', 'wb') as file:\n",
    "    pickle.dump(model_xgb, file)"
   ]
  }
 ],
 "metadata": {
  "kernelspec": {
   "display_name": "Python 3",
   "language": "python",
   "name": "python3"
  },
  "language_info": {
   "codemirror_mode": {
    "name": "ipython",
    "version": 3
   },
   "file_extension": ".py",
   "mimetype": "text/x-python",
   "name": "python",
   "nbconvert_exporter": "python",
   "pygments_lexer": "ipython3",
   "version": "3.9.2"
  }
 },
 "nbformat": 4,
 "nbformat_minor": 2
}

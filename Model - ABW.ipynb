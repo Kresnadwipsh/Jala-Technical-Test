{
 "cells": [
  {
   "cell_type": "markdown",
   "metadata": {},
   "source": [
    "# Import Library"
   ]
  },
  {
   "cell_type": "code",
   "execution_count": 20,
   "metadata": {},
   "outputs": [],
   "source": [
    "# for data manipulating\n",
    "import pandas as pd\n",
    "import numpy as np\n",
    "\n",
    "# for preprocessing\n",
    "from sklearn.preprocessing import StandardScaler, RobustScaler, OneHotEncoder\n",
    "\n",
    "# for features selection \n",
    "from sklearn.feature_selection import RFE\n",
    "\n",
    "# for visualization\n",
    "import seaborn as sns\n",
    "import shap\n",
    "import matplotlib.pyplot as plt\n",
    "import plotly.graph_objects as go\n",
    "from plotly.subplots import make_subplots\n",
    "\n",
    "# for model\n",
    "import xgboost as xgb\n",
    "from sklearn.model_selection import train_test_split\n",
    "import pickle\n",
    "\n",
    "# for evaluation\n",
    "from sklearn.model_selection import  cross_val_score\n",
    "from sklearn.metrics import mean_squared_error, make_scorer\n",
    "\n",
    "import warnings\n",
    "\n",
    "# Menonaktifkan peringatan\n",
    "warnings.simplefilter(action='ignore')\n",
    "\n",
    "\n",
    "setattr(pd, \"Int64Index\", pd.Index)\n",
    "setattr(pd, \"Float64Index\", pd.Index)"
   ]
  },
  {
   "cell_type": "markdown",
   "metadata": {},
   "source": [
    "# Import Dataset"
   ]
  },
  {
   "cell_type": "code",
   "execution_count": 2,
   "metadata": {},
   "outputs": [
    {
     "data": {
      "text/html": [
       "<div>\n",
       "<style scoped>\n",
       "    .dataframe tbody tr th:only-of-type {\n",
       "        vertical-align: middle;\n",
       "    }\n",
       "\n",
       "    .dataframe tbody tr th {\n",
       "        vertical-align: top;\n",
       "    }\n",
       "\n",
       "    .dataframe thead th {\n",
       "        text-align: right;\n",
       "    }\n",
       "</style>\n",
       "<table border=\"1\" class=\"dataframe\">\n",
       "  <thead>\n",
       "    <tr style=\"text-align: right;\">\n",
       "      <th></th>\n",
       "      <th>Unnamed: 0</th>\n",
       "      <th>cycle_id</th>\n",
       "      <th>sampled_at</th>\n",
       "      <th>average_weight</th>\n",
       "      <th>distance_date</th>\n",
       "      <th>average_daily_gain</th>\n",
       "      <th>avg_pond_length</th>\n",
       "      <th>avg_pond_width</th>\n",
       "      <th>avg_pond_depth</th>\n",
       "      <th>long_cycle(day)</th>\n",
       "      <th>total_feed(kg)</th>\n",
       "      <th>avg_tray_number</th>\n",
       "      <th>avg_feed_remain%</th>\n",
       "      <th>count_fasting</th>\n",
       "      <th>total_mortal</th>\n",
       "      <th>avg_weight_mortal</th>\n",
       "      <th>avg_weight_sample</th>\n",
       "    </tr>\n",
       "  </thead>\n",
       "  <tbody>\n",
       "    <tr>\n",
       "      <th>0</th>\n",
       "      <td>0</td>\n",
       "      <td>3458.0</td>\n",
       "      <td>2020-04-10</td>\n",
       "      <td>4.37</td>\n",
       "      <td>0</td>\n",
       "      <td>0.000000</td>\n",
       "      <td>80.09</td>\n",
       "      <td>60.07</td>\n",
       "      <td>1.2</td>\n",
       "      <td>112.0</td>\n",
       "      <td>9987.0</td>\n",
       "      <td>0.0</td>\n",
       "      <td>0.0</td>\n",
       "      <td>0.0</td>\n",
       "      <td>0.0</td>\n",
       "      <td>0.0</td>\n",
       "      <td>13.59</td>\n",
       "    </tr>\n",
       "    <tr>\n",
       "      <th>1</th>\n",
       "      <td>1</td>\n",
       "      <td>3458.0</td>\n",
       "      <td>2020-04-17</td>\n",
       "      <td>5.23</td>\n",
       "      <td>7</td>\n",
       "      <td>0.122857</td>\n",
       "      <td>80.09</td>\n",
       "      <td>60.07</td>\n",
       "      <td>1.2</td>\n",
       "      <td>112.0</td>\n",
       "      <td>9987.0</td>\n",
       "      <td>0.0</td>\n",
       "      <td>0.0</td>\n",
       "      <td>0.0</td>\n",
       "      <td>0.0</td>\n",
       "      <td>0.0</td>\n",
       "      <td>13.59</td>\n",
       "    </tr>\n",
       "    <tr>\n",
       "      <th>2</th>\n",
       "      <td>2</td>\n",
       "      <td>3458.0</td>\n",
       "      <td>2020-04-24</td>\n",
       "      <td>6.69</td>\n",
       "      <td>7</td>\n",
       "      <td>0.208571</td>\n",
       "      <td>80.09</td>\n",
       "      <td>60.07</td>\n",
       "      <td>1.2</td>\n",
       "      <td>112.0</td>\n",
       "      <td>9987.0</td>\n",
       "      <td>0.0</td>\n",
       "      <td>0.0</td>\n",
       "      <td>0.0</td>\n",
       "      <td>0.0</td>\n",
       "      <td>0.0</td>\n",
       "      <td>13.59</td>\n",
       "    </tr>\n",
       "  </tbody>\n",
       "</table>\n",
       "</div>"
      ],
      "text/plain": [
       "   Unnamed: 0  cycle_id  sampled_at  average_weight  distance_date  \\\n",
       "0           0    3458.0  2020-04-10            4.37              0   \n",
       "1           1    3458.0  2020-04-17            5.23              7   \n",
       "2           2    3458.0  2020-04-24            6.69              7   \n",
       "\n",
       "   average_daily_gain  avg_pond_length  avg_pond_width  avg_pond_depth  \\\n",
       "0            0.000000            80.09           60.07             1.2   \n",
       "1            0.122857            80.09           60.07             1.2   \n",
       "2            0.208571            80.09           60.07             1.2   \n",
       "\n",
       "   long_cycle(day)  total_feed(kg)  avg_tray_number  avg_feed_remain%  \\\n",
       "0            112.0          9987.0              0.0               0.0   \n",
       "1            112.0          9987.0              0.0               0.0   \n",
       "2            112.0          9987.0              0.0               0.0   \n",
       "\n",
       "   count_fasting  total_mortal  avg_weight_mortal  avg_weight_sample  \n",
       "0            0.0           0.0                0.0              13.59  \n",
       "1            0.0           0.0                0.0              13.59  \n",
       "2            0.0           0.0                0.0              13.59  "
      ]
     },
     "execution_count": 2,
     "metadata": {},
     "output_type": "execute_result"
    }
   ],
   "source": [
    "df = pd.read_csv(r\"\\Belajar\\Jala Test\\Dataset\\abw_model.csv\")\n",
    "df.head(3)"
   ]
  },
  {
   "cell_type": "markdown",
   "metadata": {},
   "source": [
    "# Data Understanding"
   ]
  },
  {
   "cell_type": "code",
   "execution_count": 3,
   "metadata": {},
   "outputs": [
    {
     "name": "stdout",
     "output_type": "stream",
     "text": [
      "<class 'pandas.core.frame.DataFrame'>\n",
      "RangeIndex: 15032 entries, 0 to 15031\n",
      "Data columns (total 17 columns):\n",
      " #   Column              Non-Null Count  Dtype  \n",
      "---  ------              --------------  -----  \n",
      " 0   Unnamed: 0          15032 non-null  int64  \n",
      " 1   cycle_id            15032 non-null  float64\n",
      " 2   sampled_at          15032 non-null  object \n",
      " 3   average_weight      15032 non-null  float64\n",
      " 4   distance_date       15032 non-null  int64  \n",
      " 5   average_daily_gain  15032 non-null  float64\n",
      " 6   avg_pond_length     15032 non-null  float64\n",
      " 7   avg_pond_width      15032 non-null  float64\n",
      " 8   avg_pond_depth      15032 non-null  float64\n",
      " 9   long_cycle(day)     15032 non-null  float64\n",
      " 10  total_feed(kg)      15032 non-null  float64\n",
      " 11  avg_tray_number     15032 non-null  float64\n",
      " 12  avg_feed_remain%    15032 non-null  float64\n",
      " 13  count_fasting       15032 non-null  float64\n",
      " 14  total_mortal        15032 non-null  float64\n",
      " 15  avg_weight_mortal   15032 non-null  float64\n",
      " 16  avg_weight_sample   15032 non-null  float64\n",
      "dtypes: float64(14), int64(2), object(1)\n",
      "memory usage: 1.9+ MB\n"
     ]
    }
   ],
   "source": [
    "df.info()"
   ]
  },
  {
   "cell_type": "code",
   "execution_count": 4,
   "metadata": {},
   "outputs": [
    {
     "data": {
      "text/plain": [
       "Unnamed: 0            0\n",
       "cycle_id              0\n",
       "sampled_at            0\n",
       "average_weight        0\n",
       "distance_date         0\n",
       "average_daily_gain    0\n",
       "avg_pond_length       0\n",
       "avg_pond_width        0\n",
       "avg_pond_depth        0\n",
       "long_cycle(day)       0\n",
       "total_feed(kg)        0\n",
       "avg_tray_number       0\n",
       "avg_feed_remain%      0\n",
       "count_fasting         0\n",
       "total_mortal          0\n",
       "avg_weight_mortal     0\n",
       "avg_weight_sample     0\n",
       "dtype: int64"
      ]
     },
     "execution_count": 4,
     "metadata": {},
     "output_type": "execute_result"
    }
   ],
   "source": [
    "df.isnull().sum()"
   ]
  },
  {
   "cell_type": "code",
   "execution_count": 5,
   "metadata": {},
   "outputs": [
    {
     "data": {
      "text/plain": [
       "0"
      ]
     },
     "execution_count": 5,
     "metadata": {},
     "output_type": "execute_result"
    }
   ],
   "source": [
    "df.duplicated().sum()"
   ]
  },
  {
   "cell_type": "markdown",
   "metadata": {},
   "source": [
    "# Model"
   ]
  },
  {
   "cell_type": "code",
   "execution_count": 6,
   "metadata": {},
   "outputs": [],
   "source": [
    "# filtered data\n",
    "df_model = df.drop(['Unnamed: 0','cycle_id','sampled_at','avg_weight_sample'],axis=1)\n",
    "\n",
    "# variable\n",
    "x = df_model.drop(['average_weight'],axis=1)\n",
    "y = df_model[['average_weight']]\n",
    "\n",
    "# split data \n",
    "x_train, x_test, y_train, y_test = train_test_split(x, y, test_size=0.2, random_state=7)"
   ]
  },
  {
   "cell_type": "code",
   "execution_count": 7,
   "metadata": {},
   "outputs": [],
   "source": [
    "model_xgb = xgb.XGBRegressor(\n",
    "    base_score=0.5, \n",
    "    booster='gbtree',    \n",
    "    n_estimators=1000,\n",
    "    early_stopping_rounds=50,\n",
    "    objective='reg:squarederror',\n",
    "    max_depth=3,\n",
    "    learning_rate=0.01\n",
    "    )"
   ]
  },
  {
   "cell_type": "code",
   "execution_count": 8,
   "metadata": {},
   "outputs": [
    {
     "name": "stdout",
     "output_type": "stream",
     "text": [
      "[06:38:52] WARNING: C:/Users/Administrator/workspace/xgboost-win64_release_1.4.0/src/learner.cc:573: \n",
      "Parameters: { \"early_stopping_rounds\" } might not be used.\n",
      "\n",
      "  This may not be accurate due to some parameters are only used in language bindings but\n",
      "  passed down to XGBoost core.  Or some parameters are not used but slip through this\n",
      "  verification. Please open an issue if you find above cases.\n",
      "\n",
      "\n"
     ]
    },
    {
     "data": {
      "text/plain": [
       "XGBRegressor(base_score=0.5, booster='gbtree', colsample_bylevel=1,\n",
       "             colsample_bynode=1, colsample_bytree=1, early_stopping_rounds=50,\n",
       "             gamma=0, gpu_id=-1, importance_type='gain',\n",
       "             interaction_constraints='', learning_rate=0.01, max_delta_step=0,\n",
       "             max_depth=3, min_child_weight=1, missing=nan,\n",
       "             monotone_constraints='()', n_estimators=1000, n_jobs=12,\n",
       "             num_parallel_tree=1, random_state=0, reg_alpha=0, reg_lambda=1,\n",
       "             scale_pos_weight=1, subsample=1, tree_method='exact',\n",
       "             validate_parameters=1, verbosity=None)"
      ]
     },
     "execution_count": 8,
     "metadata": {},
     "output_type": "execute_result"
    }
   ],
   "source": [
    "model_xgb.fit(x_train, y_train)"
   ]
  },
  {
   "cell_type": "code",
   "execution_count": 9,
   "metadata": {},
   "outputs": [
    {
     "data": {
      "text/html": [
       "<div>\n",
       "<style scoped>\n",
       "    .dataframe tbody tr th:only-of-type {\n",
       "        vertical-align: middle;\n",
       "    }\n",
       "\n",
       "    .dataframe tbody tr th {\n",
       "        vertical-align: top;\n",
       "    }\n",
       "\n",
       "    .dataframe thead th {\n",
       "        text-align: right;\n",
       "    }\n",
       "</style>\n",
       "<table border=\"1\" class=\"dataframe\">\n",
       "  <thead>\n",
       "    <tr style=\"text-align: right;\">\n",
       "      <th></th>\n",
       "      <th>average_weight</th>\n",
       "      <th>pred</th>\n",
       "      <th>ape</th>\n",
       "    </tr>\n",
       "  </thead>\n",
       "  <tbody>\n",
       "    <tr>\n",
       "      <th>4499</th>\n",
       "      <td>13.16</td>\n",
       "      <td>15.323476</td>\n",
       "      <td>16.439786</td>\n",
       "    </tr>\n",
       "    <tr>\n",
       "      <th>12217</th>\n",
       "      <td>16.45</td>\n",
       "      <td>18.095560</td>\n",
       "      <td>10.003405</td>\n",
       "    </tr>\n",
       "    <tr>\n",
       "      <th>11961</th>\n",
       "      <td>18.57</td>\n",
       "      <td>9.503084</td>\n",
       "      <td>48.825610</td>\n",
       "    </tr>\n",
       "    <tr>\n",
       "      <th>12560</th>\n",
       "      <td>2.10</td>\n",
       "      <td>4.675822</td>\n",
       "      <td>122.658180</td>\n",
       "    </tr>\n",
       "    <tr>\n",
       "      <th>13229</th>\n",
       "      <td>3.03</td>\n",
       "      <td>4.524728</td>\n",
       "      <td>49.330951</td>\n",
       "    </tr>\n",
       "    <tr>\n",
       "      <th>...</th>\n",
       "      <td>...</td>\n",
       "      <td>...</td>\n",
       "      <td>...</td>\n",
       "    </tr>\n",
       "    <tr>\n",
       "      <th>5655</th>\n",
       "      <td>5.03</td>\n",
       "      <td>12.002608</td>\n",
       "      <td>138.620443</td>\n",
       "    </tr>\n",
       "    <tr>\n",
       "      <th>10647</th>\n",
       "      <td>4.05</td>\n",
       "      <td>5.612367</td>\n",
       "      <td>38.576955</td>\n",
       "    </tr>\n",
       "    <tr>\n",
       "      <th>2313</th>\n",
       "      <td>4.94</td>\n",
       "      <td>8.120281</td>\n",
       "      <td>64.378162</td>\n",
       "    </tr>\n",
       "    <tr>\n",
       "      <th>10318</th>\n",
       "      <td>6.06</td>\n",
       "      <td>10.190615</td>\n",
       "      <td>68.161959</td>\n",
       "    </tr>\n",
       "    <tr>\n",
       "      <th>3522</th>\n",
       "      <td>6.75</td>\n",
       "      <td>10.542020</td>\n",
       "      <td>56.178072</td>\n",
       "    </tr>\n",
       "  </tbody>\n",
       "</table>\n",
       "<p>3007 rows × 3 columns</p>\n",
       "</div>"
      ],
      "text/plain": [
       "       average_weight       pred         ape\n",
       "4499            13.16  15.323476   16.439786\n",
       "12217           16.45  18.095560   10.003405\n",
       "11961           18.57   9.503084   48.825610\n",
       "12560            2.10   4.675822  122.658180\n",
       "13229            3.03   4.524728   49.330951\n",
       "...               ...        ...         ...\n",
       "5655             5.03  12.002608  138.620443\n",
       "10647            4.05   5.612367   38.576955\n",
       "2313             4.94   8.120281   64.378162\n",
       "10318            6.06  10.190615   68.161959\n",
       "3522             6.75  10.542020   56.178072\n",
       "\n",
       "[3007 rows x 3 columns]"
      ]
     },
     "execution_count": 9,
     "metadata": {},
     "output_type": "execute_result"
    }
   ],
   "source": [
    "y_pred = model_xgb.predict(x_test)\n",
    "\n",
    "df_pred = y_test.copy()\n",
    "df_pred['pred'] = y_pred\n",
    "df_pred['ape'] = (abs(df_pred[y.columns[0]] - df_pred.pred)/df_pred[y.columns[0]]*100)\n",
    "df_pred.loc[df_pred['ape'] == np.inf, 'ape'] = np.nan\n",
    "\n",
    "df_pred"
   ]
  },
  {
   "cell_type": "code",
   "execution_count": 10,
   "metadata": {},
   "outputs": [
    {
     "name": "stdout",
     "output_type": "stream",
     "text": [
      "RMSE: 5.3419\n",
      "MDAPE: 36.75 %\n"
     ]
    }
   ],
   "source": [
    "rmse = round(np.sqrt(mean_squared_error(y_test, y_pred)),4)\n",
    "mdape = round(df_pred.ape.median(),2)\n",
    "\n",
    "print(f\"RMSE: {rmse}\")\n",
    "print(f\"MDAPE: {mdape} %\")"
   ]
  },
  {
   "cell_type": "markdown",
   "metadata": {},
   "source": [
    "**__Catatan__** : <p>\n",
    "Berdasarkan hasil evaluasi, didapatkan hasil rmse dan mdape, umumnya selisih error mdape yang dihasilkan model sebesar 31% dan rmse 4.97 gram dari data aktual"
   ]
  },
  {
   "cell_type": "markdown",
   "metadata": {},
   "source": [
    "- Cross Validation "
   ]
  },
  {
   "cell_type": "code",
   "execution_count": 11,
   "metadata": {},
   "outputs": [
    {
     "name": "stdout",
     "output_type": "stream",
     "text": [
      "[06:38:55] WARNING: C:/Users/Administrator/workspace/xgboost-win64_release_1.4.0/src/learner.cc:573: \n",
      "Parameters: { \"early_stopping_rounds\" } might not be used.\n",
      "\n",
      "  This may not be accurate due to some parameters are only used in language bindings but\n",
      "  passed down to XGBoost core.  Or some parameters are not used but slip through this\n",
      "  verification. Please open an issue if you find above cases.\n",
      "\n",
      "\n",
      "[06:38:56] WARNING: C:/Users/Administrator/workspace/xgboost-win64_release_1.4.0/src/learner.cc:573: \n",
      "Parameters: { \"early_stopping_rounds\" } might not be used.\n",
      "\n",
      "  This may not be accurate due to some parameters are only used in language bindings but\n",
      "  passed down to XGBoost core.  Or some parameters are not used but slip through this\n",
      "  verification. Please open an issue if you find above cases.\n",
      "\n",
      "\n",
      "[06:38:58] WARNING: C:/Users/Administrator/workspace/xgboost-win64_release_1.4.0/src/learner.cc:573: \n",
      "Parameters: { \"early_stopping_rounds\" } might not be used.\n",
      "\n",
      "  This may not be accurate due to some parameters are only used in language bindings but\n",
      "  passed down to XGBoost core.  Or some parameters are not used but slip through this\n",
      "  verification. Please open an issue if you find above cases.\n",
      "\n",
      "\n",
      "[06:39:00] WARNING: C:/Users/Administrator/workspace/xgboost-win64_release_1.4.0/src/learner.cc:573: \n",
      "Parameters: { \"early_stopping_rounds\" } might not be used.\n",
      "\n",
      "  This may not be accurate due to some parameters are only used in language bindings but\n",
      "  passed down to XGBoost core.  Or some parameters are not used but slip through this\n",
      "  verification. Please open an issue if you find above cases.\n",
      "\n",
      "\n",
      "[06:39:01] WARNING: C:/Users/Administrator/workspace/xgboost-win64_release_1.4.0/src/learner.cc:573: \n",
      "Parameters: { \"early_stopping_rounds\" } might not be used.\n",
      "\n",
      "  This may not be accurate due to some parameters are only used in language bindings but\n",
      "  passed down to XGBoost core.  Or some parameters are not used but slip through this\n",
      "  verification. Please open an issue if you find above cases.\n",
      "\n",
      "\n"
     ]
    }
   ],
   "source": [
    "def rmse(y_test, y_pred):\n",
    "    return round(np.sqrt(mean_squared_error(y_test, y_pred)),4)\n",
    "\n",
    "rmse_scorer = make_scorer(rmse)\n",
    "\n",
    "rmse_cv = cross_val_score(model_xgb, x, y, cv=5, scoring=rmse_scorer)"
   ]
  },
  {
   "cell_type": "code",
   "execution_count": 12,
   "metadata": {},
   "outputs": [
    {
     "data": {
      "text/plain": [
       "array([6.0443, 5.1651, 5.744 , 6.6745, 4.9291])"
      ]
     },
     "execution_count": 12,
     "metadata": {},
     "output_type": "execute_result"
    }
   ],
   "source": [
    "rmse_cv"
   ]
  },
  {
   "cell_type": "markdown",
   "metadata": {},
   "source": [
    "**__Catatan__** : <p>\n",
    "Berdasarkan hasil evaluasi, didapatkan hasil rmse cross validation dengan selisih 4 s/d 5 gram "
   ]
  },
  {
   "cell_type": "markdown",
   "metadata": {},
   "source": [
    "# Features Selection"
   ]
  },
  {
   "cell_type": "code",
   "execution_count": 13,
   "metadata": {},
   "outputs": [
    {
     "data": {
      "text/plain": [
       "average_weight        1.000000\n",
       "average_daily_gain    0.548701\n",
       "distance_date         0.315030\n",
       "long_cycle(day)       0.289510\n",
       "total_feed(kg)        0.243083\n",
       "avg_pond_width        0.121966\n",
       "avg_pond_length       0.106076\n",
       "avg_pond_depth        0.087608\n",
       "avg_feed_remain%     -0.004019\n",
       "avg_tray_number      -0.004098\n",
       "avg_weight_mortal    -0.018305\n",
       "count_fasting        -0.042073\n",
       "total_mortal         -0.054877\n",
       "Name: average_weight, dtype: float64"
      ]
     },
     "execution_count": 13,
     "metadata": {},
     "output_type": "execute_result"
    }
   ],
   "source": [
    "df_model.corr('spearman')['average_weight'].sort_values(ascending=False)"
   ]
  },
  {
   "cell_type": "markdown",
   "metadata": {},
   "source": [
    "**__Catatan__** : <p>\n",
    "Berdasarkan hasil korelasi, akan fokus pada fitur dengan tingkat korelasi > 0,10"
   ]
  },
  {
   "cell_type": "code",
   "execution_count": 14,
   "metadata": {},
   "outputs": [],
   "source": [
    "# drop features\n",
    "x_new = x.drop(['avg_tray_number', 'avg_feed_remain%', 'avg_weight_mortal', 'avg_pond_length', 'total_mortal', 'count_fasting'],axis=1)\n",
    "\n",
    "# split data \n",
    "x_train, x_test, y_train, y_test = train_test_split(x_new, y, test_size=0.2, random_state=7)"
   ]
  },
  {
   "cell_type": "code",
   "execution_count": 15,
   "metadata": {},
   "outputs": [
    {
     "name": "stdout",
     "output_type": "stream",
     "text": [
      "[06:39:03] WARNING: C:/Users/Administrator/workspace/xgboost-win64_release_1.4.0/src/learner.cc:573: \n",
      "Parameters: { \"early_stopping_rounds\" } might not be used.\n",
      "\n",
      "  This may not be accurate due to some parameters are only used in language bindings but\n",
      "  passed down to XGBoost core.  Or some parameters are not used but slip through this\n",
      "  verification. Please open an issue if you find above cases.\n",
      "\n",
      "\n"
     ]
    },
    {
     "data": {
      "text/plain": [
       "XGBRegressor(base_score=0.5, booster='gbtree', colsample_bylevel=1,\n",
       "             colsample_bynode=1, colsample_bytree=1, early_stopping_rounds=50,\n",
       "             gamma=0, gpu_id=-1, importance_type='gain',\n",
       "             interaction_constraints='', learning_rate=0.01, max_delta_step=0,\n",
       "             max_depth=3, min_child_weight=1, missing=nan,\n",
       "             monotone_constraints='()', n_estimators=1000, n_jobs=12,\n",
       "             num_parallel_tree=1, random_state=0, reg_alpha=0, reg_lambda=1,\n",
       "             scale_pos_weight=1, subsample=1, tree_method='exact',\n",
       "             validate_parameters=1, verbosity=None)"
      ]
     },
     "execution_count": 15,
     "metadata": {},
     "output_type": "execute_result"
    }
   ],
   "source": [
    "model_xgb.fit(x_train, y_train)"
   ]
  },
  {
   "cell_type": "code",
   "execution_count": 16,
   "metadata": {},
   "outputs": [
    {
     "data": {
      "text/html": [
       "<div>\n",
       "<style scoped>\n",
       "    .dataframe tbody tr th:only-of-type {\n",
       "        vertical-align: middle;\n",
       "    }\n",
       "\n",
       "    .dataframe tbody tr th {\n",
       "        vertical-align: top;\n",
       "    }\n",
       "\n",
       "    .dataframe thead th {\n",
       "        text-align: right;\n",
       "    }\n",
       "</style>\n",
       "<table border=\"1\" class=\"dataframe\">\n",
       "  <thead>\n",
       "    <tr style=\"text-align: right;\">\n",
       "      <th></th>\n",
       "      <th>average_weight</th>\n",
       "      <th>pred</th>\n",
       "      <th>ape</th>\n",
       "    </tr>\n",
       "  </thead>\n",
       "  <tbody>\n",
       "    <tr>\n",
       "      <th>4499</th>\n",
       "      <td>13.16</td>\n",
       "      <td>15.222843</td>\n",
       "      <td>15.675100</td>\n",
       "    </tr>\n",
       "    <tr>\n",
       "      <th>12217</th>\n",
       "      <td>16.45</td>\n",
       "      <td>17.901667</td>\n",
       "      <td>8.824721</td>\n",
       "    </tr>\n",
       "    <tr>\n",
       "      <th>11961</th>\n",
       "      <td>18.57</td>\n",
       "      <td>9.702844</td>\n",
       "      <td>47.749899</td>\n",
       "    </tr>\n",
       "    <tr>\n",
       "      <th>12560</th>\n",
       "      <td>2.10</td>\n",
       "      <td>4.262287</td>\n",
       "      <td>102.966054</td>\n",
       "    </tr>\n",
       "    <tr>\n",
       "      <th>13229</th>\n",
       "      <td>3.03</td>\n",
       "      <td>3.601591</td>\n",
       "      <td>18.864377</td>\n",
       "    </tr>\n",
       "    <tr>\n",
       "      <th>...</th>\n",
       "      <td>...</td>\n",
       "      <td>...</td>\n",
       "      <td>...</td>\n",
       "    </tr>\n",
       "    <tr>\n",
       "      <th>5655</th>\n",
       "      <td>5.03</td>\n",
       "      <td>11.795500</td>\n",
       "      <td>134.502978</td>\n",
       "    </tr>\n",
       "    <tr>\n",
       "      <th>10647</th>\n",
       "      <td>4.05</td>\n",
       "      <td>5.467902</td>\n",
       "      <td>35.009930</td>\n",
       "    </tr>\n",
       "    <tr>\n",
       "      <th>2313</th>\n",
       "      <td>4.94</td>\n",
       "      <td>8.517834</td>\n",
       "      <td>72.425784</td>\n",
       "    </tr>\n",
       "    <tr>\n",
       "      <th>10318</th>\n",
       "      <td>6.06</td>\n",
       "      <td>9.976996</td>\n",
       "      <td>64.636905</td>\n",
       "    </tr>\n",
       "    <tr>\n",
       "      <th>3522</th>\n",
       "      <td>6.75</td>\n",
       "      <td>10.517365</td>\n",
       "      <td>55.812822</td>\n",
       "    </tr>\n",
       "  </tbody>\n",
       "</table>\n",
       "<p>3007 rows × 3 columns</p>\n",
       "</div>"
      ],
      "text/plain": [
       "       average_weight       pred         ape\n",
       "4499            13.16  15.222843   15.675100\n",
       "12217           16.45  17.901667    8.824721\n",
       "11961           18.57   9.702844   47.749899\n",
       "12560            2.10   4.262287  102.966054\n",
       "13229            3.03   3.601591   18.864377\n",
       "...               ...        ...         ...\n",
       "5655             5.03  11.795500  134.502978\n",
       "10647            4.05   5.467902   35.009930\n",
       "2313             4.94   8.517834   72.425784\n",
       "10318            6.06   9.976996   64.636905\n",
       "3522             6.75  10.517365   55.812822\n",
       "\n",
       "[3007 rows x 3 columns]"
      ]
     },
     "execution_count": 16,
     "metadata": {},
     "output_type": "execute_result"
    }
   ],
   "source": [
    "y_pred = model_xgb.predict(x_test)\n",
    "\n",
    "df_pred = y_test.copy()\n",
    "df_pred['pred'] = y_pred\n",
    "df_pred['ape'] = (abs(df_pred[y.columns[0]] - df_pred.pred)/df_pred[y.columns[0]]*100)\n",
    "\n",
    "df_pred"
   ]
  },
  {
   "cell_type": "code",
   "execution_count": 17,
   "metadata": {},
   "outputs": [
    {
     "name": "stdout",
     "output_type": "stream",
     "text": [
      "RMSE: 5.3477\n",
      "MDAPE: 36.92 %\n"
     ]
    }
   ],
   "source": [
    "rmse = round(np.sqrt(mean_squared_error(y_test, y_pred)),4)\n",
    "mdape = round(df_pred.ape.median(),2)\n",
    "\n",
    "print(f\"RMSE: {rmse}\")\n",
    "print(f\"MDAPE: {mdape} %\")"
   ]
  },
  {
   "cell_type": "code",
   "execution_count": 18,
   "metadata": {},
   "outputs": [
    {
     "name": "stdout",
     "output_type": "stream",
     "text": [
      "[06:39:05] WARNING: C:/Users/Administrator/workspace/xgboost-win64_release_1.4.0/src/learner.cc:573: \n",
      "Parameters: { \"early_stopping_rounds\" } might not be used.\n",
      "\n",
      "  This may not be accurate due to some parameters are only used in language bindings but\n",
      "  passed down to XGBoost core.  Or some parameters are not used but slip through this\n",
      "  verification. Please open an issue if you find above cases.\n",
      "\n",
      "\n",
      "[06:39:07] WARNING: C:/Users/Administrator/workspace/xgboost-win64_release_1.4.0/src/learner.cc:573: \n",
      "Parameters: { \"early_stopping_rounds\" } might not be used.\n",
      "\n",
      "  This may not be accurate due to some parameters are only used in language bindings but\n",
      "  passed down to XGBoost core.  Or some parameters are not used but slip through this\n",
      "  verification. Please open an issue if you find above cases.\n",
      "\n",
      "\n",
      "[06:39:08] WARNING: C:/Users/Administrator/workspace/xgboost-win64_release_1.4.0/src/learner.cc:573: \n",
      "Parameters: { \"early_stopping_rounds\" } might not be used.\n",
      "\n",
      "  This may not be accurate due to some parameters are only used in language bindings but\n",
      "  passed down to XGBoost core.  Or some parameters are not used but slip through this\n",
      "  verification. Please open an issue if you find above cases.\n",
      "\n",
      "\n",
      "[06:39:09] WARNING: C:/Users/Administrator/workspace/xgboost-win64_release_1.4.0/src/learner.cc:573: \n",
      "Parameters: { \"early_stopping_rounds\" } might not be used.\n",
      "\n",
      "  This may not be accurate due to some parameters are only used in language bindings but\n",
      "  passed down to XGBoost core.  Or some parameters are not used but slip through this\n",
      "  verification. Please open an issue if you find above cases.\n",
      "\n",
      "\n",
      "[06:39:11] WARNING: C:/Users/Administrator/workspace/xgboost-win64_release_1.4.0/src/learner.cc:573: \n",
      "Parameters: { \"early_stopping_rounds\" } might not be used.\n",
      "\n",
      "  This may not be accurate due to some parameters are only used in language bindings but\n",
      "  passed down to XGBoost core.  Or some parameters are not used but slip through this\n",
      "  verification. Please open an issue if you find above cases.\n",
      "\n",
      "\n"
     ]
    }
   ],
   "source": [
    "rmse_cv = cross_val_score(model_xgb, x_new, y, cv=5, scoring=rmse_scorer)"
   ]
  },
  {
   "cell_type": "code",
   "execution_count": 19,
   "metadata": {},
   "outputs": [
    {
     "data": {
      "text/plain": [
       "array([6.0212, 5.1318, 5.7235, 6.7098, 4.8557])"
      ]
     },
     "execution_count": 19,
     "metadata": {},
     "output_type": "execute_result"
    }
   ],
   "source": [
    "rmse_cv"
   ]
  },
  {
   "cell_type": "code",
   "execution_count": 22,
   "metadata": {},
   "outputs": [
    {
     "data": {
      "text/plain": [
       "Index(['average_weight', 'distance_date', 'average_daily_gain',\n",
       "       'avg_pond_length', 'avg_pond_width', 'avg_pond_depth',\n",
       "       'long_cycle(day)', 'total_feed(kg)', 'avg_tray_number',\n",
       "       'avg_feed_remain%', 'count_fasting', 'total_mortal',\n",
       "       'avg_weight_mortal'],\n",
       "      dtype='object')"
      ]
     },
     "execution_count": 22,
     "metadata": {},
     "output_type": "execute_result"
    }
   ],
   "source": [
    "df_model.columns"
   ]
  },
  {
   "cell_type": "markdown",
   "metadata": {},
   "source": [
    "**__Catatan__** : <p>\n",
    "Berdasarkan hasil evaluasi, model sebelum feature selection masih lebih baik "
   ]
  },
  {
   "cell_type": "markdown",
   "metadata": {},
   "source": [
    "# PIckle Model "
   ]
  },
  {
   "cell_type": "code",
   "execution_count": null,
   "metadata": {},
   "outputs": [],
   "source": [
    "with open('model_xgb.pkl', 'wb') as file:\n",
    "    pickle.dump(model_xgb, file)"
   ]
  }
 ],
 "metadata": {
  "kernelspec": {
   "display_name": "Python 3",
   "language": "python",
   "name": "python3"
  },
  "language_info": {
   "codemirror_mode": {
    "name": "ipython",
    "version": 3
   },
   "file_extension": ".py",
   "mimetype": "text/x-python",
   "name": "python",
   "nbconvert_exporter": "python",
   "pygments_lexer": "ipython3",
   "version": "3.9.2"
  }
 },
 "nbformat": 4,
 "nbformat_minor": 2
}

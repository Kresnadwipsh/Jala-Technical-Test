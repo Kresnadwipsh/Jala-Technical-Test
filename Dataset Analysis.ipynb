{
 "cells": [
  {
   "cell_type": "markdown",
   "metadata": {},
   "source": [
    "# Import Library "
   ]
  },
  {
   "cell_type": "code",
   "execution_count": 1,
   "metadata": {},
   "outputs": [],
   "source": [
    "import pandas as pd \n",
    "import numpy as np\n",
    "from datetime import date\n",
    "\n",
    "pd.set_option(\"display.max_columns\",None)\n",
    "pd.options.display.float_format = '{:.2f}'.format"
   ]
  },
  {
   "cell_type": "markdown",
   "metadata": {},
   "source": [
    "# Dataset "
   ]
  },
  {
   "cell_type": "markdown",
   "metadata": {},
   "source": [
    "- Dataset Cycle"
   ]
  },
  {
   "cell_type": "code",
   "execution_count": 2,
   "metadata": {},
   "outputs": [
    {
     "data": {
      "text/html": [
       "<div>\n",
       "<style scoped>\n",
       "    .dataframe tbody tr th:only-of-type {\n",
       "        vertical-align: middle;\n",
       "    }\n",
       "\n",
       "    .dataframe tbody tr th {\n",
       "        vertical-align: top;\n",
       "    }\n",
       "\n",
       "    .dataframe thead th {\n",
       "        text-align: right;\n",
       "    }\n",
       "</style>\n",
       "<table border=\"1\" class=\"dataframe\">\n",
       "  <thead>\n",
       "    <tr style=\"text-align: right;\">\n",
       "      <th></th>\n",
       "      <th>id</th>\n",
       "      <th>pond_id</th>\n",
       "      <th>species_id</th>\n",
       "      <th>total_seed</th>\n",
       "      <th>started_at</th>\n",
       "      <th>finished_at</th>\n",
       "      <th>remark</th>\n",
       "      <th>created_at</th>\n",
       "      <th>updated_at</th>\n",
       "      <th>area</th>\n",
       "      <th>initial_age</th>\n",
       "      <th>limit_weight_per_area</th>\n",
       "      <th>target_cultivation_day</th>\n",
       "      <th>target_size</th>\n",
       "      <th>extracted_at</th>\n",
       "      <th>subscription_type</th>\n",
       "      <th>ordered_at</th>\n",
       "      <th>hatchery_id</th>\n",
       "      <th>total_seed_type</th>\n",
       "      <th>hatchery_name</th>\n",
       "      <th>pond_name</th>\n",
       "      <th>pond_length</th>\n",
       "      <th>pond_width</th>\n",
       "      <th>pond_depth</th>\n",
       "    </tr>\n",
       "  </thead>\n",
       "  <tbody>\n",
       "    <tr>\n",
       "      <th>0</th>\n",
       "      <td>18876</td>\n",
       "      <td>36294</td>\n",
       "      <td>1.00</td>\n",
       "      <td>331920</td>\n",
       "      <td>2022-10-14 00:00:00.000</td>\n",
       "      <td>2023-01-29 00:00:00.000</td>\n",
       "      <td>NaN</td>\n",
       "      <td>2022-10-14 12:34:23.000</td>\n",
       "      <td>2023-01-30 01:46:27.000</td>\n",
       "      <td>4030.00</td>\n",
       "      <td>0.00</td>\n",
       "      <td>2.00</td>\n",
       "      <td>110.00</td>\n",
       "      <td>35.00</td>\n",
       "      <td>2024-04-12 17:02:22.000</td>\n",
       "      <td>Free</td>\n",
       "      <td>NaN</td>\n",
       "      <td>66.00</td>\n",
       "      <td>net</td>\n",
       "      <td>UD. Benur Ndaru Laut</td>\n",
       "      <td>H</td>\n",
       "      <td>65.00</td>\n",
       "      <td>62.00</td>\n",
       "      <td>1.00</td>\n",
       "    </tr>\n",
       "    <tr>\n",
       "      <th>1</th>\n",
       "      <td>22118</td>\n",
       "      <td>37102</td>\n",
       "      <td>1.00</td>\n",
       "      <td>40000</td>\n",
       "      <td>2023-04-26 00:00:00.000</td>\n",
       "      <td>2023-06-23 00:00:00.000</td>\n",
       "      <td>#TBR01</td>\n",
       "      <td>2023-04-30 22:28:13.000</td>\n",
       "      <td>2023-06-26 05:35:32.000</td>\n",
       "      <td>399.00</td>\n",
       "      <td>0.00</td>\n",
       "      <td>1.25</td>\n",
       "      <td>120.00</td>\n",
       "      <td>100.00</td>\n",
       "      <td>2024-04-12 17:02:22.000</td>\n",
       "      <td>Free</td>\n",
       "      <td>NaN</td>\n",
       "      <td>83.00</td>\n",
       "      <td>net</td>\n",
       "      <td>CV Raja Benur</td>\n",
       "      <td>A1</td>\n",
       "      <td>30.00</td>\n",
       "      <td>20.00</td>\n",
       "      <td>1.00</td>\n",
       "    </tr>\n",
       "    <tr>\n",
       "      <th>2</th>\n",
       "      <td>24088</td>\n",
       "      <td>39154</td>\n",
       "      <td>NaN</td>\n",
       "      <td>357570</td>\n",
       "      <td>2023-08-01 00:00:00.000</td>\n",
       "      <td>2023-10-18 00:00:00.000</td>\n",
       "      <td>#SiklusFarm</td>\n",
       "      <td>2023-07-12 01:13:05.000</td>\n",
       "      <td>2023-10-19 04:23:11.000</td>\n",
       "      <td>2000.00</td>\n",
       "      <td>0.00</td>\n",
       "      <td>1.25</td>\n",
       "      <td>120.00</td>\n",
       "      <td>20.00</td>\n",
       "      <td>2024-04-12 17:02:22.000</td>\n",
       "      <td>Free</td>\n",
       "      <td>2023-07-12 01:13:05.000</td>\n",
       "      <td>1004.00</td>\n",
       "      <td>gross</td>\n",
       "      <td>PT. Tri Karta Pratama - Total Kualitas Prima</td>\n",
       "      <td>A3</td>\n",
       "      <td>50.00</td>\n",
       "      <td>40.00</td>\n",
       "      <td>1.40</td>\n",
       "    </tr>\n",
       "  </tbody>\n",
       "</table>\n",
       "</div>"
      ],
      "text/plain": [
       "      id  pond_id  species_id  total_seed               started_at  \\\n",
       "0  18876    36294        1.00      331920  2022-10-14 00:00:00.000   \n",
       "1  22118    37102        1.00       40000  2023-04-26 00:00:00.000   \n",
       "2  24088    39154         NaN      357570  2023-08-01 00:00:00.000   \n",
       "\n",
       "               finished_at       remark               created_at  \\\n",
       "0  2023-01-29 00:00:00.000          NaN  2022-10-14 12:34:23.000   \n",
       "1  2023-06-23 00:00:00.000       #TBR01  2023-04-30 22:28:13.000   \n",
       "2  2023-10-18 00:00:00.000  #SiklusFarm  2023-07-12 01:13:05.000   \n",
       "\n",
       "                updated_at    area  initial_age  limit_weight_per_area  \\\n",
       "0  2023-01-30 01:46:27.000 4030.00         0.00                   2.00   \n",
       "1  2023-06-26 05:35:32.000  399.00         0.00                   1.25   \n",
       "2  2023-10-19 04:23:11.000 2000.00         0.00                   1.25   \n",
       "\n",
       "   target_cultivation_day  target_size             extracted_at  \\\n",
       "0                  110.00        35.00  2024-04-12 17:02:22.000   \n",
       "1                  120.00       100.00  2024-04-12 17:02:22.000   \n",
       "2                  120.00        20.00  2024-04-12 17:02:22.000   \n",
       "\n",
       "  subscription_type               ordered_at  hatchery_id total_seed_type  \\\n",
       "0              Free                      NaN        66.00             net   \n",
       "1              Free                      NaN        83.00             net   \n",
       "2              Free  2023-07-12 01:13:05.000      1004.00           gross   \n",
       "\n",
       "                                  hatchery_name pond_name  pond_length  \\\n",
       "0                          UD. Benur Ndaru Laut         H        65.00   \n",
       "1                                 CV Raja Benur        A1        30.00   \n",
       "2  PT. Tri Karta Pratama - Total Kualitas Prima        A3        50.00   \n",
       "\n",
       "   pond_width  pond_depth  \n",
       "0       62.00        1.00  \n",
       "1       20.00        1.00  \n",
       "2       40.00        1.40  "
      ]
     },
     "execution_count": 2,
     "metadata": {},
     "output_type": "execute_result"
    }
   ],
   "source": [
    "cycle = pd.read_csv(r\"\\Belajar\\Jala Test\\Dataset\\cycles.csv\")\n",
    "cycle.head(3)"
   ]
  },
  {
   "cell_type": "markdown",
   "metadata": {},
   "source": [
    "**__Catatan__** : <p> \n",
    "Berdasarkan pemahaman data, informasi yang di muat adalah siklus budidaya, seperti informasi id siklus, tanggal awal dan akhir, target budidaya, tempat penetasan, dan sebagainya"
   ]
  },
  {
   "cell_type": "code",
   "execution_count": 3,
   "metadata": {},
   "outputs": [
    {
     "data": {
      "text/plain": [
       "id                           0\n",
       "pond_id                      0\n",
       "species_id                 814\n",
       "total_seed                   0\n",
       "started_at                   0\n",
       "finished_at                  1\n",
       "remark                    1281\n",
       "created_at                   0\n",
       "updated_at                   0\n",
       "area                         0\n",
       "initial_age                 48\n",
       "limit_weight_per_area        7\n",
       "target_cultivation_day       3\n",
       "target_size                  4\n",
       "extracted_at                 0\n",
       "subscription_type            0\n",
       "ordered_at                1523\n",
       "hatchery_id                465\n",
       "total_seed_type            242\n",
       "hatchery_name              465\n",
       "pond_name                    0\n",
       "pond_length                  6\n",
       "pond_width                   6\n",
       "pond_depth                 118\n",
       "dtype: int64"
      ]
     },
     "execution_count": 3,
     "metadata": {},
     "output_type": "execute_result"
    }
   ],
   "source": [
    "cycle.isnull().sum()"
   ]
  },
  {
   "cell_type": "code",
   "execution_count": 8,
   "metadata": {},
   "outputs": [
    {
     "data": {
      "text/plain": [
       "50"
      ]
     },
     "execution_count": 8,
     "metadata": {},
     "output_type": "execute_result"
    }
   ],
   "source": [
    "cycle.duplicated().sum()"
   ]
  },
  {
   "cell_type": "code",
   "execution_count": 10,
   "metadata": {},
   "outputs": [
    {
     "data": {
      "text/plain": [
       "2500"
      ]
     },
     "execution_count": 10,
     "metadata": {},
     "output_type": "execute_result"
    }
   ],
   "source": [
    "cycle.id.nunique()"
   ]
  },
  {
   "cell_type": "markdown",
   "metadata": {},
   "source": [
    "- Dataset Farm"
   ]
  },
  {
   "cell_type": "code",
   "execution_count": 14,
   "metadata": {},
   "outputs": [
    {
     "data": {
      "text/html": [
       "<div>\n",
       "<style scoped>\n",
       "    .dataframe tbody tr th:only-of-type {\n",
       "        vertical-align: middle;\n",
       "    }\n",
       "\n",
       "    .dataframe tbody tr th {\n",
       "        vertical-align: top;\n",
       "    }\n",
       "\n",
       "    .dataframe thead th {\n",
       "        text-align: right;\n",
       "    }\n",
       "</style>\n",
       "<table border=\"1\" class=\"dataframe\">\n",
       "  <thead>\n",
       "    <tr style=\"text-align: right;\">\n",
       "      <th></th>\n",
       "      <th>id</th>\n",
       "      <th>province</th>\n",
       "      <th>regency</th>\n",
       "      <th>timezone</th>\n",
       "    </tr>\n",
       "  </thead>\n",
       "  <tbody>\n",
       "    <tr>\n",
       "      <th>0</th>\n",
       "      <td>652</td>\n",
       "      <td>JAWA BARAT</td>\n",
       "      <td>SUBANG</td>\n",
       "      <td>+07:00</td>\n",
       "    </tr>\n",
       "    <tr>\n",
       "      <th>1</th>\n",
       "      <td>869</td>\n",
       "      <td>SULAWESI SELATAN</td>\n",
       "      <td>BARRU</td>\n",
       "      <td>+08:00</td>\n",
       "    </tr>\n",
       "    <tr>\n",
       "      <th>2</th>\n",
       "      <td>900</td>\n",
       "      <td>JAWA TIMUR</td>\n",
       "      <td>PACITAN</td>\n",
       "      <td>+07:00</td>\n",
       "    </tr>\n",
       "  </tbody>\n",
       "</table>\n",
       "</div>"
      ],
      "text/plain": [
       "    id          province  regency timezone\n",
       "0  652        JAWA BARAT   SUBANG   +07:00\n",
       "1  869  SULAWESI SELATAN    BARRU   +08:00\n",
       "2  900        JAWA TIMUR  PACITAN   +07:00"
      ]
     },
     "execution_count": 14,
     "metadata": {},
     "output_type": "execute_result"
    }
   ],
   "source": [
    "farm = pd.read_csv(r\"\\Belajar\\Jala Test\\Dataset\\farms.csv\")\n",
    "farm.head(3)"
   ]
  },
  {
   "cell_type": "markdown",
   "metadata": {},
   "source": [
    "**__Catatan__** : <p>\n",
    "Berdasarkan pemahaman data, informasi yang di muat adalah informasi lokasi tambak, terdapat id farm, lokasi provinsi, kota, dan zona waktu"
   ]
  },
  {
   "cell_type": "code",
   "execution_count": 15,
   "metadata": {},
   "outputs": [
    {
     "data": {
      "text/plain": [
       "id           0\n",
       "province    72\n",
       "regency     93\n",
       "timezone     0\n",
       "dtype: int64"
      ]
     },
     "execution_count": 15,
     "metadata": {},
     "output_type": "execute_result"
    }
   ],
   "source": [
    "farm.isnull().sum()"
   ]
  },
  {
   "cell_type": "code",
   "execution_count": 16,
   "metadata": {},
   "outputs": [
    {
     "data": {
      "text/plain": [
       "0"
      ]
     },
     "execution_count": 16,
     "metadata": {},
     "output_type": "execute_result"
    }
   ],
   "source": [
    "farm.duplicated().sum()"
   ]
  },
  {
   "cell_type": "markdown",
   "metadata": {},
   "source": [
    "- Dataset Fasting"
   ]
  },
  {
   "cell_type": "code",
   "execution_count": 17,
   "metadata": {},
   "outputs": [
    {
     "data": {
      "text/html": [
       "<div>\n",
       "<style scoped>\n",
       "    .dataframe tbody tr th:only-of-type {\n",
       "        vertical-align: middle;\n",
       "    }\n",
       "\n",
       "    .dataframe tbody tr th {\n",
       "        vertical-align: top;\n",
       "    }\n",
       "\n",
       "    .dataframe thead th {\n",
       "        text-align: right;\n",
       "    }\n",
       "</style>\n",
       "<table border=\"1\" class=\"dataframe\">\n",
       "  <thead>\n",
       "    <tr style=\"text-align: right;\">\n",
       "      <th></th>\n",
       "      <th>logged_date</th>\n",
       "      <th>cycle_id</th>\n",
       "      <th>fasting</th>\n",
       "    </tr>\n",
       "  </thead>\n",
       "  <tbody>\n",
       "    <tr>\n",
       "      <th>0</th>\n",
       "      <td>2022-10-17</td>\n",
       "      <td>15804</td>\n",
       "      <td>1.00</td>\n",
       "    </tr>\n",
       "    <tr>\n",
       "      <th>1</th>\n",
       "      <td>2022-11-27</td>\n",
       "      <td>15804</td>\n",
       "      <td>0.00</td>\n",
       "    </tr>\n",
       "    <tr>\n",
       "      <th>2</th>\n",
       "      <td>2022-11-28</td>\n",
       "      <td>15804</td>\n",
       "      <td>0.00</td>\n",
       "    </tr>\n",
       "  </tbody>\n",
       "</table>\n",
       "</div>"
      ],
      "text/plain": [
       "  logged_date  cycle_id  fasting\n",
       "0  2022-10-17     15804     1.00\n",
       "1  2022-11-27     15804     0.00\n",
       "2  2022-11-28     15804     0.00"
      ]
     },
     "execution_count": 17,
     "metadata": {},
     "output_type": "execute_result"
    }
   ],
   "source": [
    "fasting = pd.read_csv(r\"\\Belajar\\Jala Test\\Dataset\\fasting.csv\")\n",
    "fasting.head(3)"
   ]
  },
  {
   "cell_type": "code",
   "execution_count": 18,
   "metadata": {},
   "outputs": [
    {
     "data": {
      "text/html": [
       "<div>\n",
       "<style scoped>\n",
       "    .dataframe tbody tr th:only-of-type {\n",
       "        vertical-align: middle;\n",
       "    }\n",
       "\n",
       "    .dataframe tbody tr th {\n",
       "        vertical-align: top;\n",
       "    }\n",
       "\n",
       "    .dataframe thead th {\n",
       "        text-align: right;\n",
       "    }\n",
       "</style>\n",
       "<table border=\"1\" class=\"dataframe\">\n",
       "  <thead>\n",
       "    <tr style=\"text-align: right;\">\n",
       "      <th></th>\n",
       "      <th>logged_date</th>\n",
       "      <th>cycle_id</th>\n",
       "      <th>fasting</th>\n",
       "    </tr>\n",
       "  </thead>\n",
       "  <tbody>\n",
       "    <tr>\n",
       "      <th>0</th>\n",
       "      <td>2022-03-26</td>\n",
       "      <td>15013.00</td>\n",
       "      <td>1.00</td>\n",
       "    </tr>\n",
       "    <tr>\n",
       "      <th>1</th>\n",
       "      <td>2022-03-27</td>\n",
       "      <td>15013.00</td>\n",
       "      <td>0.00</td>\n",
       "    </tr>\n",
       "    <tr>\n",
       "      <th>2</th>\n",
       "      <td>2022-03-28</td>\n",
       "      <td>15013.00</td>\n",
       "      <td>0.00</td>\n",
       "    </tr>\n",
       "  </tbody>\n",
       "</table>\n",
       "</div>"
      ],
      "text/plain": [
       "  logged_date  cycle_id  fasting\n",
       "0  2022-03-26  15013.00     1.00\n",
       "1  2022-03-27  15013.00     0.00\n",
       "2  2022-03-28  15013.00     0.00"
      ]
     },
     "execution_count": 18,
     "metadata": {},
     "output_type": "execute_result"
    }
   ],
   "source": [
    "fastings = pd.read_csv(r\"\\Belajar\\Jala Test\\Dataset\\fastings.csv\")\n",
    "fastings.head(3)"
   ]
  },
  {
   "cell_type": "markdown",
   "metadata": {},
   "source": [
    "**__Catatan__** : <p>\n",
    "Berdasarkan pemahaman kedua data, informasi yang di muat adalah informasi label puasa per siklus"
   ]
  },
  {
   "cell_type": "code",
   "execution_count": 26,
   "metadata": {},
   "outputs": [
    {
     "name": "stdout",
     "output_type": "stream",
     "text": [
      "fasting : logged_date     0\n",
      "cycle_id        0\n",
      "fasting        17\n",
      "dtype: int64\n",
      "fastings : logged_date     0\n",
      "cycle_id        0\n",
      "fasting        40\n",
      "dtype: int64\n"
     ]
    }
   ],
   "source": [
    "print(f\"fasting : {fasting.isnull().sum()}\")\n",
    "print(f\"fastings : {fastings.isnull().sum()}\")"
   ]
  },
  {
   "cell_type": "code",
   "execution_count": 27,
   "metadata": {},
   "outputs": [
    {
     "name": "stdout",
     "output_type": "stream",
     "text": [
      "fasting : 67\n",
      "fastings : 185\n"
     ]
    }
   ],
   "source": [
    "print(f\"fasting : {fasting.duplicated().sum()}\")\n",
    "print(f\"fastings : {fastings.duplicated().sum()}\")"
   ]
  },
  {
   "cell_type": "code",
   "execution_count": 28,
   "metadata": {},
   "outputs": [
    {
     "name": "stdout",
     "output_type": "stream",
     "text": [
      "fasting : 339\n",
      "fastings : 1683\n"
     ]
    }
   ],
   "source": [
    "print(f\"fasting : {fasting.cycle_id.nunique()}\")\n",
    "print(f\"fastings : {fastings.cycle_id.nunique()}\")"
   ]
  },
  {
   "cell_type": "markdown",
   "metadata": {},
   "source": [
    "- Dataset Feed Tray"
   ]
  },
  {
   "cell_type": "code",
   "execution_count": 30,
   "metadata": {},
   "outputs": [
    {
     "data": {
      "text/html": [
       "<div>\n",
       "<style scoped>\n",
       "    .dataframe tbody tr th:only-of-type {\n",
       "        vertical-align: middle;\n",
       "    }\n",
       "\n",
       "    .dataframe tbody tr th {\n",
       "        vertical-align: top;\n",
       "    }\n",
       "\n",
       "    .dataframe thead th {\n",
       "        text-align: right;\n",
       "    }\n",
       "</style>\n",
       "<table border=\"1\" class=\"dataframe\">\n",
       "  <thead>\n",
       "    <tr style=\"text-align: right;\">\n",
       "      <th></th>\n",
       "      <th>id</th>\n",
       "      <th>logged_at</th>\n",
       "      <th>feed_logged_at</th>\n",
       "      <th>cycle_id</th>\n",
       "      <th>tray_number</th>\n",
       "      <th>feed_remaining_percent</th>\n",
       "      <th>remark</th>\n",
       "      <th>created_at</th>\n",
       "      <th>updated_at</th>\n",
       "      <th>local_feed_logged_at</th>\n",
       "    </tr>\n",
       "  </thead>\n",
       "  <tbody>\n",
       "    <tr>\n",
       "      <th>0</th>\n",
       "      <td>498</td>\n",
       "      <td>2021-11-19 17:09:00</td>\n",
       "      <td>2021-11-20 04:09:00</td>\n",
       "      <td>12163</td>\n",
       "      <td>1</td>\n",
       "      <td>0</td>\n",
       "      <td>NaN</td>\n",
       "      <td>2021-11-20 04:12:03</td>\n",
       "      <td>2021-11-20 04:12:03</td>\n",
       "      <td>2021-11-20 00:09:00</td>\n",
       "    </tr>\n",
       "    <tr>\n",
       "      <th>1</th>\n",
       "      <td>499</td>\n",
       "      <td>2021-11-19 17:09:00</td>\n",
       "      <td>2021-11-20 04:09:00</td>\n",
       "      <td>12163</td>\n",
       "      <td>2</td>\n",
       "      <td>0</td>\n",
       "      <td>NaN</td>\n",
       "      <td>2021-11-20 04:12:03</td>\n",
       "      <td>2021-11-20 04:12:03</td>\n",
       "      <td>2021-11-20 00:09:00</td>\n",
       "    </tr>\n",
       "    <tr>\n",
       "      <th>2</th>\n",
       "      <td>500</td>\n",
       "      <td>2021-11-20 09:14:00</td>\n",
       "      <td>2021-11-20 08:14:00</td>\n",
       "      <td>12163</td>\n",
       "      <td>1</td>\n",
       "      <td>0</td>\n",
       "      <td>NaN</td>\n",
       "      <td>2021-11-20 08:15:17</td>\n",
       "      <td>2021-11-20 08:15:17</td>\n",
       "      <td>2021-11-20 16:14:00</td>\n",
       "    </tr>\n",
       "  </tbody>\n",
       "</table>\n",
       "</div>"
      ],
      "text/plain": [
       "    id            logged_at       feed_logged_at  cycle_id  tray_number  \\\n",
       "0  498  2021-11-19 17:09:00  2021-11-20 04:09:00     12163            1   \n",
       "1  499  2021-11-19 17:09:00  2021-11-20 04:09:00     12163            2   \n",
       "2  500  2021-11-20 09:14:00  2021-11-20 08:14:00     12163            1   \n",
       "\n",
       "   feed_remaining_percent remark           created_at           updated_at  \\\n",
       "0                       0    NaN  2021-11-20 04:12:03  2021-11-20 04:12:03   \n",
       "1                       0    NaN  2021-11-20 04:12:03  2021-11-20 04:12:03   \n",
       "2                       0    NaN  2021-11-20 08:15:17  2021-11-20 08:15:17   \n",
       "\n",
       "  local_feed_logged_at  \n",
       "0  2021-11-20 00:09:00  \n",
       "1  2021-11-20 00:09:00  \n",
       "2  2021-11-20 16:14:00  "
      ]
     },
     "execution_count": 30,
     "metadata": {},
     "output_type": "execute_result"
    }
   ],
   "source": [
    "feed_tray = pd.read_csv(r\"\\Belajar\\Jala Test\\Dataset\\feed_tray.csv\")\n",
    "feed_tray.head(3)"
   ]
  },
  {
   "cell_type": "markdown",
   "metadata": {},
   "source": [
    "**__Catatan__** : <p>\n",
    "Berdasarkan pemahaman data, informasi yang di muat adalah informasi detail alat pengecekan nafsu makan udang (anco) secara berkala"
   ]
  },
  {
   "cell_type": "code",
   "execution_count": 31,
   "metadata": {},
   "outputs": [
    {
     "data": {
      "text/plain": [
       "id                             0\n",
       "logged_at                      0\n",
       "feed_logged_at                 0\n",
       "cycle_id                       0\n",
       "tray_number                    0\n",
       "feed_remaining_percent         0\n",
       "remark                    140283\n",
       "created_at                     0\n",
       "updated_at                     0\n",
       "local_feed_logged_at           0\n",
       "dtype: int64"
      ]
     },
     "execution_count": 31,
     "metadata": {},
     "output_type": "execute_result"
    }
   ],
   "source": [
    "feed_tray.isnull().sum()"
   ]
  },
  {
   "cell_type": "code",
   "execution_count": 32,
   "metadata": {},
   "outputs": [
    {
     "data": {
      "text/plain": [
       "0"
      ]
     },
     "execution_count": 32,
     "metadata": {},
     "output_type": "execute_result"
    }
   ],
   "source": [
    "feed_tray.duplicated().sum()"
   ]
  },
  {
   "cell_type": "markdown",
   "metadata": {},
   "source": [
    "- Dataset Feeds"
   ]
  },
  {
   "cell_type": "code",
   "execution_count": 34,
   "metadata": {},
   "outputs": [
    {
     "data": {
      "text/html": [
       "<div>\n",
       "<style scoped>\n",
       "    .dataframe tbody tr th:only-of-type {\n",
       "        vertical-align: middle;\n",
       "    }\n",
       "\n",
       "    .dataframe tbody tr th {\n",
       "        vertical-align: top;\n",
       "    }\n",
       "\n",
       "    .dataframe thead th {\n",
       "        text-align: right;\n",
       "    }\n",
       "</style>\n",
       "<table border=\"1\" class=\"dataframe\">\n",
       "  <thead>\n",
       "    <tr style=\"text-align: right;\">\n",
       "      <th></th>\n",
       "      <th>cycle_id</th>\n",
       "      <th>logged_at</th>\n",
       "      <th>quantity</th>\n",
       "    </tr>\n",
       "  </thead>\n",
       "  <tbody>\n",
       "    <tr>\n",
       "      <th>0</th>\n",
       "      <td>15013</td>\n",
       "      <td>2022-03-29 00:00:00.000</td>\n",
       "      <td>0.50</td>\n",
       "    </tr>\n",
       "    <tr>\n",
       "      <th>1</th>\n",
       "      <td>15013</td>\n",
       "      <td>2022-03-29 05:30:00.000</td>\n",
       "      <td>0.50</td>\n",
       "    </tr>\n",
       "    <tr>\n",
       "      <th>2</th>\n",
       "      <td>15013</td>\n",
       "      <td>2022-03-29 11:30:00.000</td>\n",
       "      <td>0.50</td>\n",
       "    </tr>\n",
       "  </tbody>\n",
       "</table>\n",
       "</div>"
      ],
      "text/plain": [
       "   cycle_id                logged_at  quantity\n",
       "0     15013  2022-03-29 00:00:00.000      0.50\n",
       "1     15013  2022-03-29 05:30:00.000      0.50\n",
       "2     15013  2022-03-29 11:30:00.000      0.50"
      ]
     },
     "execution_count": 34,
     "metadata": {},
     "output_type": "execute_result"
    }
   ],
   "source": [
    "feeds = pd.read_csv(r\"\\Belajar\\Jala Test\\Dataset\\feeds.csv\")\n",
    "feeds.head(3)"
   ]
  },
  {
   "cell_type": "markdown",
   "metadata": {},
   "source": [
    "**__Catatan__** : <p>\n",
    "Berdasarkan pemahaman data, informasi yang di muat adalah informasi pemberian pakan"
   ]
  },
  {
   "cell_type": "code",
   "execution_count": 35,
   "metadata": {},
   "outputs": [
    {
     "data": {
      "text/plain": [
       "cycle_id      0\n",
       "logged_at    21\n",
       "quantity     21\n",
       "dtype: int64"
      ]
     },
     "execution_count": 35,
     "metadata": {},
     "output_type": "execute_result"
    }
   ],
   "source": [
    "feeds.isnull().sum()"
   ]
  },
  {
   "cell_type": "code",
   "execution_count": 36,
   "metadata": {},
   "outputs": [
    {
     "data": {
      "text/plain": [
       "154995"
      ]
     },
     "execution_count": 36,
     "metadata": {},
     "output_type": "execute_result"
    }
   ],
   "source": [
    "feeds.duplicated().sum()"
   ]
  },
  {
   "cell_type": "code",
   "execution_count": 38,
   "metadata": {},
   "outputs": [
    {
     "data": {
      "text/plain": [
       "2500"
      ]
     },
     "execution_count": 38,
     "metadata": {},
     "output_type": "execute_result"
    }
   ],
   "source": [
    "feeds.cycle_id.nunique()"
   ]
  },
  {
   "cell_type": "markdown",
   "metadata": {},
   "source": [
    "- Dataset Harvest"
   ]
  },
  {
   "cell_type": "code",
   "execution_count": 39,
   "metadata": {},
   "outputs": [
    {
     "data": {
      "text/html": [
       "<div>\n",
       "<style scoped>\n",
       "    .dataframe tbody tr th:only-of-type {\n",
       "        vertical-align: middle;\n",
       "    }\n",
       "\n",
       "    .dataframe tbody tr th {\n",
       "        vertical-align: top;\n",
       "    }\n",
       "\n",
       "    .dataframe thead th {\n",
       "        text-align: right;\n",
       "    }\n",
       "</style>\n",
       "<table border=\"1\" class=\"dataframe\">\n",
       "  <thead>\n",
       "    <tr style=\"text-align: right;\">\n",
       "      <th></th>\n",
       "      <th>cycle_id</th>\n",
       "      <th>updated_at</th>\n",
       "      <th>size</th>\n",
       "      <th>created_at</th>\n",
       "      <th>weight</th>\n",
       "      <th>id</th>\n",
       "      <th>harvested_at</th>\n",
       "      <th>status</th>\n",
       "      <th>selling_price</th>\n",
       "    </tr>\n",
       "  </thead>\n",
       "  <tbody>\n",
       "    <tr>\n",
       "      <th>0</th>\n",
       "      <td>15013.00</td>\n",
       "      <td>2022-07-18 08:42:59</td>\n",
       "      <td>399.86</td>\n",
       "      <td>2022-07-18 08:42:59</td>\n",
       "      <td>0.01</td>\n",
       "      <td>11960.00</td>\n",
       "      <td>2022-04-17</td>\n",
       "      <td>Failed</td>\n",
       "      <td>NaN</td>\n",
       "    </tr>\n",
       "    <tr>\n",
       "      <th>1</th>\n",
       "      <td>11848.00</td>\n",
       "      <td>2021-10-25 23:29:53</td>\n",
       "      <td>300.00</td>\n",
       "      <td>2021-10-24 08:38:53</td>\n",
       "      <td>46.00</td>\n",
       "      <td>7520.00</td>\n",
       "      <td>2021-10-22</td>\n",
       "      <td>Full</td>\n",
       "      <td>1610000.00</td>\n",
       "    </tr>\n",
       "    <tr>\n",
       "      <th>2</th>\n",
       "      <td>11848.00</td>\n",
       "      <td>2021-10-25 23:29:35</td>\n",
       "      <td>300.00</td>\n",
       "      <td>2021-10-25 23:29:35</td>\n",
       "      <td>10.00</td>\n",
       "      <td>7546.00</td>\n",
       "      <td>2021-10-21</td>\n",
       "      <td>Partial</td>\n",
       "      <td>350000.00</td>\n",
       "    </tr>\n",
       "  </tbody>\n",
       "</table>\n",
       "</div>"
      ],
      "text/plain": [
       "   cycle_id           updated_at   size           created_at  weight       id  \\\n",
       "0  15013.00  2022-07-18 08:42:59 399.86  2022-07-18 08:42:59    0.01 11960.00   \n",
       "1  11848.00  2021-10-25 23:29:53 300.00  2021-10-24 08:38:53   46.00  7520.00   \n",
       "2  11848.00  2021-10-25 23:29:35 300.00  2021-10-25 23:29:35   10.00  7546.00   \n",
       "\n",
       "  harvested_at   status  selling_price  \n",
       "0   2022-04-17   Failed            NaN  \n",
       "1   2021-10-22     Full     1610000.00  \n",
       "2   2021-10-21  Partial      350000.00  "
      ]
     },
     "execution_count": 39,
     "metadata": {},
     "output_type": "execute_result"
    }
   ],
   "source": [
    "harvest = pd.read_csv(r\"\\Belajar\\Jala Test\\Dataset\\harvests.csv\")\n",
    "harvest.head(3)"
   ]
  },
  {
   "cell_type": "markdown",
   "metadata": {},
   "source": [
    "**__Catatan__** : <p>\n",
    "Berdasarkan pemahaman data, informasi yang di muat adalah informasi detail panen, seperti tanggal panen, dan sebagainya"
   ]
  },
  {
   "cell_type": "code",
   "execution_count": 40,
   "metadata": {},
   "outputs": [
    {
     "data": {
      "text/plain": [
       "cycle_id            0\n",
       "updated_at          0\n",
       "size                0\n",
       "created_at          0\n",
       "weight              0\n",
       "id                  0\n",
       "harvested_at        0\n",
       "status            263\n",
       "selling_price    1793\n",
       "dtype: int64"
      ]
     },
     "execution_count": 40,
     "metadata": {},
     "output_type": "execute_result"
    }
   ],
   "source": [
    "harvest.isnull().sum()"
   ]
  },
  {
   "cell_type": "code",
   "execution_count": 41,
   "metadata": {},
   "outputs": [
    {
     "data": {
      "text/plain": [
       "0"
      ]
     },
     "execution_count": 41,
     "metadata": {},
     "output_type": "execute_result"
    }
   ],
   "source": [
    "harvest.duplicated().sum()"
   ]
  },
  {
   "cell_type": "code",
   "execution_count": 42,
   "metadata": {},
   "outputs": [
    {
     "data": {
      "text/plain": [
       "2490"
      ]
     },
     "execution_count": 42,
     "metadata": {},
     "output_type": "execute_result"
    }
   ],
   "source": [
    "harvest.cycle_id.nunique()"
   ]
  },
  {
   "cell_type": "markdown",
   "metadata": {},
   "source": [
    "- Dataset Measure"
   ]
  },
  {
   "cell_type": "code",
   "execution_count": 45,
   "metadata": {},
   "outputs": [
    {
     "data": {
      "text/html": [
       "<div>\n",
       "<style scoped>\n",
       "    .dataframe tbody tr th:only-of-type {\n",
       "        vertical-align: middle;\n",
       "    }\n",
       "\n",
       "    .dataframe tbody tr th {\n",
       "        vertical-align: top;\n",
       "    }\n",
       "\n",
       "    .dataframe thead th {\n",
       "        text-align: right;\n",
       "    }\n",
       "</style>\n",
       "<table border=\"1\" class=\"dataframe\">\n",
       "  <thead>\n",
       "    <tr style=\"text-align: right;\">\n",
       "      <th></th>\n",
       "      <th>pond_id</th>\n",
       "      <th>cycle_id</th>\n",
       "      <th>measured_date</th>\n",
       "      <th>morning_temperature</th>\n",
       "      <th>evening_temperature</th>\n",
       "      <th>morning_do</th>\n",
       "      <th>evening_do</th>\n",
       "      <th>morning_salinity</th>\n",
       "      <th>evening_salinity</th>\n",
       "      <th>morning_pH</th>\n",
       "      <th>evening_pH</th>\n",
       "      <th>transparency</th>\n",
       "      <th>turbidity</th>\n",
       "      <th>ammonia</th>\n",
       "      <th>nitrate</th>\n",
       "      <th>nitrite</th>\n",
       "      <th>alkalinity</th>\n",
       "      <th>hardness</th>\n",
       "      <th>calcium</th>\n",
       "      <th>magnesium</th>\n",
       "      <th>carbonate</th>\n",
       "      <th>bicarbonate</th>\n",
       "      <th>tom</th>\n",
       "      <th>total_plankton_</th>\n",
       "    </tr>\n",
       "  </thead>\n",
       "  <tbody>\n",
       "    <tr>\n",
       "      <th>0</th>\n",
       "      <td>31250</td>\n",
       "      <td>15009</td>\n",
       "      <td>2022-04-16</td>\n",
       "      <td>29.00</td>\n",
       "      <td>NaN</td>\n",
       "      <td>NaN</td>\n",
       "      <td>NaN</td>\n",
       "      <td>28.00</td>\n",
       "      <td>NaN</td>\n",
       "      <td>8.10</td>\n",
       "      <td>NaN</td>\n",
       "      <td>50.00</td>\n",
       "      <td>NaN</td>\n",
       "      <td>NaN</td>\n",
       "      <td>NaN</td>\n",
       "      <td>NaN</td>\n",
       "      <td>NaN</td>\n",
       "      <td>NaN</td>\n",
       "      <td>NaN</td>\n",
       "      <td>NaN</td>\n",
       "      <td>NaN</td>\n",
       "      <td>NaN</td>\n",
       "      <td>NaN</td>\n",
       "      <td>NaN</td>\n",
       "    </tr>\n",
       "    <tr>\n",
       "      <th>1</th>\n",
       "      <td>21226</td>\n",
       "      <td>10897</td>\n",
       "      <td>2021-07-30</td>\n",
       "      <td>NaN</td>\n",
       "      <td>NaN</td>\n",
       "      <td>NaN</td>\n",
       "      <td>NaN</td>\n",
       "      <td>NaN</td>\n",
       "      <td>NaN</td>\n",
       "      <td>NaN</td>\n",
       "      <td>NaN</td>\n",
       "      <td>NaN</td>\n",
       "      <td>NaN</td>\n",
       "      <td>NaN</td>\n",
       "      <td>NaN</td>\n",
       "      <td>NaN</td>\n",
       "      <td>NaN</td>\n",
       "      <td>NaN</td>\n",
       "      <td>NaN</td>\n",
       "      <td>NaN</td>\n",
       "      <td>NaN</td>\n",
       "      <td>NaN</td>\n",
       "      <td>NaN</td>\n",
       "      <td>NaN</td>\n",
       "    </tr>\n",
       "    <tr>\n",
       "      <th>2</th>\n",
       "      <td>45694</td>\n",
       "      <td>27893</td>\n",
       "      <td>2023-12-07</td>\n",
       "      <td>29.34</td>\n",
       "      <td>32.45</td>\n",
       "      <td>4.36</td>\n",
       "      <td>6.25</td>\n",
       "      <td>2.15</td>\n",
       "      <td>2.69</td>\n",
       "      <td>8.29</td>\n",
       "      <td>NaN</td>\n",
       "      <td>NaN</td>\n",
       "      <td>NaN</td>\n",
       "      <td>NaN</td>\n",
       "      <td>NaN</td>\n",
       "      <td>NaN</td>\n",
       "      <td>NaN</td>\n",
       "      <td>NaN</td>\n",
       "      <td>NaN</td>\n",
       "      <td>NaN</td>\n",
       "      <td>NaN</td>\n",
       "      <td>NaN</td>\n",
       "      <td>NaN</td>\n",
       "      <td>NaN</td>\n",
       "    </tr>\n",
       "  </tbody>\n",
       "</table>\n",
       "</div>"
      ],
      "text/plain": [
       "   pond_id  cycle_id measured_date  morning_temperature  evening_temperature  \\\n",
       "0    31250     15009    2022-04-16                29.00                  NaN   \n",
       "1    21226     10897    2021-07-30                  NaN                  NaN   \n",
       "2    45694     27893    2023-12-07                29.34                32.45   \n",
       "\n",
       "   morning_do  evening_do  morning_salinity  evening_salinity  morning_pH  \\\n",
       "0         NaN         NaN             28.00               NaN        8.10   \n",
       "1         NaN         NaN               NaN               NaN         NaN   \n",
       "2        4.36        6.25              2.15              2.69        8.29   \n",
       "\n",
       "   evening_pH  transparency  turbidity  ammonia  nitrate  nitrite  alkalinity  \\\n",
       "0         NaN         50.00        NaN      NaN      NaN      NaN         NaN   \n",
       "1         NaN           NaN        NaN      NaN      NaN      NaN         NaN   \n",
       "2         NaN           NaN        NaN      NaN      NaN      NaN         NaN   \n",
       "\n",
       "   hardness  calcium  magnesium  carbonate  bicarbonate  tom  total_plankton_  \n",
       "0       NaN      NaN        NaN        NaN          NaN  NaN              NaN  \n",
       "1       NaN      NaN        NaN        NaN          NaN  NaN              NaN  \n",
       "2       NaN      NaN        NaN        NaN          NaN  NaN              NaN  "
      ]
     },
     "execution_count": 45,
     "metadata": {},
     "output_type": "execute_result"
    }
   ],
   "source": [
    "measure = pd.read_csv(r\"\\Belajar\\Jala Test\\Dataset\\measurements.csv\")\n",
    "measure.head(3)"
   ]
  },
  {
   "cell_type": "markdown",
   "metadata": {},
   "source": [
    "**__Catatan__** : <p>\n",
    "Berdasarkan pemahaman data, informasi yang di muat adalah informasi detail kondisi kolam budidaya, seperti temperatur, kadar karbon, kadar alkaline, dan sebagainya"
   ]
  },
  {
   "cell_type": "code",
   "execution_count": 46,
   "metadata": {},
   "outputs": [
    {
     "data": {
      "text/plain": [
       "pond_id                     0\n",
       "cycle_id                    0\n",
       "measured_date               0\n",
       "morning_temperature     41855\n",
       "evening_temperature     49839\n",
       "morning_do              61324\n",
       "evening_do              65098\n",
       "morning_salinity        46388\n",
       "evening_salinity        73957\n",
       "morning_pH              20115\n",
       "evening_pH              78101\n",
       "transparency            61750\n",
       "turbidity              138884\n",
       "ammonia                135302\n",
       "nitrate                136888\n",
       "nitrite                129293\n",
       "alkalinity             125533\n",
       "hardness               133525\n",
       "calcium                132458\n",
       "magnesium              132430\n",
       "carbonate              133762\n",
       "bicarbonate            132372\n",
       "tom                    131774\n",
       "total_plankton_        126429\n",
       "dtype: int64"
      ]
     },
     "execution_count": 46,
     "metadata": {},
     "output_type": "execute_result"
    }
   ],
   "source": [
    "measure.isnull().sum()"
   ]
  },
  {
   "cell_type": "markdown",
   "metadata": {},
   "source": [
    "**__Catatan__** : <p>\n",
    "Berdasarkan pemahaman data, dataset measure terdapat banyak null value, dataset ini sulit untuk dijadikan fitur untuk mengeneralisir untuk seluruh siklus"
   ]
  },
  {
   "cell_type": "code",
   "execution_count": 47,
   "metadata": {},
   "outputs": [
    {
     "data": {
      "text/plain": [
       "0"
      ]
     },
     "execution_count": 47,
     "metadata": {},
     "output_type": "execute_result"
    }
   ],
   "source": [
    "measure.duplicated().sum()"
   ]
  },
  {
   "cell_type": "code",
   "execution_count": 48,
   "metadata": {},
   "outputs": [
    {
     "data": {
      "text/plain": [
       "2500"
      ]
     },
     "execution_count": 48,
     "metadata": {},
     "output_type": "execute_result"
    }
   ],
   "source": [
    "measure.cycle_id.nunique()"
   ]
  },
  {
   "cell_type": "markdown",
   "metadata": {},
   "source": [
    "- Dataset Mortal"
   ]
  },
  {
   "cell_type": "code",
   "execution_count": 50,
   "metadata": {},
   "outputs": [
    {
     "data": {
      "text/html": [
       "<div>\n",
       "<style scoped>\n",
       "    .dataframe tbody tr th:only-of-type {\n",
       "        vertical-align: middle;\n",
       "    }\n",
       "\n",
       "    .dataframe tbody tr th {\n",
       "        vertical-align: top;\n",
       "    }\n",
       "\n",
       "    .dataframe thead th {\n",
       "        text-align: right;\n",
       "    }\n",
       "</style>\n",
       "<table border=\"1\" class=\"dataframe\">\n",
       "  <thead>\n",
       "    <tr style=\"text-align: right;\">\n",
       "      <th></th>\n",
       "      <th>id</th>\n",
       "      <th>cycle_id</th>\n",
       "      <th>quantity</th>\n",
       "      <th>recorded_at</th>\n",
       "      <th>created_at</th>\n",
       "      <th>updated_at</th>\n",
       "      <th>average_weight</th>\n",
       "    </tr>\n",
       "  </thead>\n",
       "  <tbody>\n",
       "    <tr>\n",
       "      <th>0</th>\n",
       "      <td>185</td>\n",
       "      <td>8007</td>\n",
       "      <td>83334</td>\n",
       "      <td>2021-03-04</td>\n",
       "      <td>2021-03-04 03:46:42</td>\n",
       "      <td>2024-01-08 11:40:40</td>\n",
       "      <td>1.50</td>\n",
       "    </tr>\n",
       "    <tr>\n",
       "      <th>1</th>\n",
       "      <td>186</td>\n",
       "      <td>8007</td>\n",
       "      <td>43334</td>\n",
       "      <td>2021-03-05</td>\n",
       "      <td>2021-03-05 06:47:30</td>\n",
       "      <td>2024-01-08 11:40:40</td>\n",
       "      <td>1.50</td>\n",
       "    </tr>\n",
       "    <tr>\n",
       "      <th>2</th>\n",
       "      <td>188</td>\n",
       "      <td>8139</td>\n",
       "      <td>870</td>\n",
       "      <td>2021-03-04</td>\n",
       "      <td>2021-03-11 09:00:34</td>\n",
       "      <td>2024-01-08 11:40:40</td>\n",
       "      <td>3.45</td>\n",
       "    </tr>\n",
       "  </tbody>\n",
       "</table>\n",
       "</div>"
      ],
      "text/plain": [
       "    id  cycle_id  quantity recorded_at           created_at  \\\n",
       "0  185      8007     83334  2021-03-04  2021-03-04 03:46:42   \n",
       "1  186      8007     43334  2021-03-05  2021-03-05 06:47:30   \n",
       "2  188      8139       870  2021-03-04  2021-03-11 09:00:34   \n",
       "\n",
       "            updated_at  average_weight  \n",
       "0  2024-01-08 11:40:40            1.50  \n",
       "1  2024-01-08 11:40:40            1.50  \n",
       "2  2024-01-08 11:40:40            3.45  "
      ]
     },
     "execution_count": 50,
     "metadata": {},
     "output_type": "execute_result"
    }
   ],
   "source": [
    "mortal = pd.read_csv(r\"\\Belajar\\Jala Test\\Dataset\\mortalities.csv\")\n",
    "mortal.head(3)"
   ]
  },
  {
   "cell_type": "markdown",
   "metadata": {},
   "source": [
    "**__Catatan__** : <p>\n",
    "Berdasarkan pemahaman data, informasi yang di muat adalah informasi terkait mortalities bibit"
   ]
  },
  {
   "cell_type": "code",
   "execution_count": 51,
   "metadata": {},
   "outputs": [
    {
     "data": {
      "text/plain": [
       "id                0\n",
       "cycle_id          0\n",
       "quantity          0\n",
       "recorded_at       0\n",
       "created_at        0\n",
       "updated_at        0\n",
       "average_weight    0\n",
       "dtype: int64"
      ]
     },
     "execution_count": 51,
     "metadata": {},
     "output_type": "execute_result"
    }
   ],
   "source": [
    "mortal.isnull().sum()"
   ]
  },
  {
   "cell_type": "code",
   "execution_count": 52,
   "metadata": {},
   "outputs": [
    {
     "data": {
      "text/plain": [
       "0"
      ]
     },
     "execution_count": 52,
     "metadata": {},
     "output_type": "execute_result"
    }
   ],
   "source": [
    "mortal.duplicated().sum()"
   ]
  },
  {
   "cell_type": "code",
   "execution_count": 53,
   "metadata": {},
   "outputs": [
    {
     "data": {
      "text/plain": [
       "857"
      ]
     },
     "execution_count": 53,
     "metadata": {},
     "output_type": "execute_result"
    }
   ],
   "source": [
    "mortal.cycle_id.nunique()"
   ]
  },
  {
   "cell_type": "markdown",
   "metadata": {},
   "source": [
    "- Dataset Ponds"
   ]
  },
  {
   "cell_type": "code",
   "execution_count": 54,
   "metadata": {},
   "outputs": [
    {
     "data": {
      "text/html": [
       "<div>\n",
       "<style scoped>\n",
       "    .dataframe tbody tr th:only-of-type {\n",
       "        vertical-align: middle;\n",
       "    }\n",
       "\n",
       "    .dataframe tbody tr th {\n",
       "        vertical-align: top;\n",
       "    }\n",
       "\n",
       "    .dataframe thead th {\n",
       "        text-align: right;\n",
       "    }\n",
       "</style>\n",
       "<table border=\"1\" class=\"dataframe\">\n",
       "  <thead>\n",
       "    <tr style=\"text-align: right;\">\n",
       "      <th></th>\n",
       "      <th>id</th>\n",
       "      <th>farm_id</th>\n",
       "      <th>length</th>\n",
       "      <th>width</th>\n",
       "      <th>deep</th>\n",
       "      <th>created_at</th>\n",
       "      <th>updated_at</th>\n",
       "      <th>record_id</th>\n",
       "      <th>extracted_at</th>\n",
       "      <th>max_seed_density</th>\n",
       "    </tr>\n",
       "  </thead>\n",
       "  <tbody>\n",
       "    <tr>\n",
       "      <th>0</th>\n",
       "      <td>2117</td>\n",
       "      <td>8</td>\n",
       "      <td>NaN</td>\n",
       "      <td>NaN</td>\n",
       "      <td>NaN</td>\n",
       "      <td>2018-04-19 20:09:43.000</td>\n",
       "      <td>2018-04-19 20:09:43.000</td>\n",
       "      <td>ponds_2023_12_21_2117</td>\n",
       "      <td>2023-12-21 17:02:10.000</td>\n",
       "      <td>NaN</td>\n",
       "    </tr>\n",
       "    <tr>\n",
       "      <th>1</th>\n",
       "      <td>9</td>\n",
       "      <td>3</td>\n",
       "      <td>16.70</td>\n",
       "      <td>36.20</td>\n",
       "      <td>NaN</td>\n",
       "      <td>2018-03-07 19:05:09.000</td>\n",
       "      <td>2018-03-15 00:58:08.000</td>\n",
       "      <td>ponds_2024_4_12_9</td>\n",
       "      <td>2024-04-12 17:02:11.000</td>\n",
       "      <td>NaN</td>\n",
       "    </tr>\n",
       "    <tr>\n",
       "      <th>2</th>\n",
       "      <td>2116</td>\n",
       "      <td>8</td>\n",
       "      <td>NaN</td>\n",
       "      <td>NaN</td>\n",
       "      <td>NaN</td>\n",
       "      <td>2018-04-19 20:09:43.000</td>\n",
       "      <td>2018-04-19 20:09:43.000</td>\n",
       "      <td>ponds_2023_12_21_2116</td>\n",
       "      <td>2023-12-21 17:02:10.000</td>\n",
       "      <td>NaN</td>\n",
       "    </tr>\n",
       "  </tbody>\n",
       "</table>\n",
       "</div>"
      ],
      "text/plain": [
       "     id  farm_id  length  width  deep               created_at  \\\n",
       "0  2117        8     NaN    NaN   NaN  2018-04-19 20:09:43.000   \n",
       "1     9        3   16.70  36.20   NaN  2018-03-07 19:05:09.000   \n",
       "2  2116        8     NaN    NaN   NaN  2018-04-19 20:09:43.000   \n",
       "\n",
       "                updated_at              record_id             extracted_at  \\\n",
       "0  2018-04-19 20:09:43.000  ponds_2023_12_21_2117  2023-12-21 17:02:10.000   \n",
       "1  2018-03-15 00:58:08.000      ponds_2024_4_12_9  2024-04-12 17:02:11.000   \n",
       "2  2018-04-19 20:09:43.000  ponds_2023_12_21_2116  2023-12-21 17:02:10.000   \n",
       "\n",
       "   max_seed_density  \n",
       "0               NaN  \n",
       "1               NaN  \n",
       "2               NaN  "
      ]
     },
     "execution_count": 54,
     "metadata": {},
     "output_type": "execute_result"
    }
   ],
   "source": [
    "ponds = pd.read_csv(r\"\\Belajar\\Jala Test\\Dataset\\ponds.csv\")\n",
    "ponds.head(3)"
   ]
  },
  {
   "cell_type": "markdown",
   "metadata": {},
   "source": [
    "**__Catatan__** : <p>\n",
    "Berdasarkan pemahaman data, informasi yang di muat adalah informasi detail kondisi ukuran per kolam, seperti id kolam, luas, kedalaman yang terekam secara berkala "
   ]
  },
  {
   "cell_type": "code",
   "execution_count": 55,
   "metadata": {},
   "outputs": [
    {
     "data": {
      "text/plain": [
       "id                    0\n",
       "farm_id               0\n",
       "length               23\n",
       "width                29\n",
       "deep                 92\n",
       "created_at            0\n",
       "updated_at            0\n",
       "record_id             0\n",
       "extracted_at          0\n",
       "max_seed_density    203\n",
       "dtype: int64"
      ]
     },
     "execution_count": 55,
     "metadata": {},
     "output_type": "execute_result"
    }
   ],
   "source": [
    "ponds.isnull().sum()"
   ]
  },
  {
   "cell_type": "code",
   "execution_count": 56,
   "metadata": {},
   "outputs": [
    {
     "data": {
      "text/plain": [
       "0"
      ]
     },
     "execution_count": 56,
     "metadata": {},
     "output_type": "execute_result"
    }
   ],
   "source": [
    "ponds.duplicated().sum()"
   ]
  },
  {
   "cell_type": "markdown",
   "metadata": {},
   "source": [
    "- Dataset Sampling"
   ]
  },
  {
   "cell_type": "code",
   "execution_count": 57,
   "metadata": {},
   "outputs": [
    {
     "data": {
      "text/html": [
       "<div>\n",
       "<style scoped>\n",
       "    .dataframe tbody tr th:only-of-type {\n",
       "        vertical-align: middle;\n",
       "    }\n",
       "\n",
       "    .dataframe tbody tr th {\n",
       "        vertical-align: top;\n",
       "    }\n",
       "\n",
       "    .dataframe thead th {\n",
       "        text-align: right;\n",
       "    }\n",
       "</style>\n",
       "<table border=\"1\" class=\"dataframe\">\n",
       "  <thead>\n",
       "    <tr style=\"text-align: right;\">\n",
       "      <th></th>\n",
       "      <th>cycle_id</th>\n",
       "      <th>updated_at</th>\n",
       "      <th>sampled_at</th>\n",
       "      <th>created_at</th>\n",
       "      <th>average_weight</th>\n",
       "      <th>id</th>\n",
       "      <th>remark</th>\n",
       "    </tr>\n",
       "  </thead>\n",
       "  <tbody>\n",
       "    <tr>\n",
       "      <th>0</th>\n",
       "      <td>18747.00</td>\n",
       "      <td>2022-10-07 03:26:30</td>\n",
       "      <td>2022-09-24</td>\n",
       "      <td>2022-10-07 02:10:49</td>\n",
       "      <td>4.91</td>\n",
       "      <td>32508.00</td>\n",
       "      <td>Size 204\\nP/H = 99 kg\\nP/K = 2.020 kg\\nSamplin...</td>\n",
       "    </tr>\n",
       "    <tr>\n",
       "      <th>1</th>\n",
       "      <td>18747.00</td>\n",
       "      <td>2022-10-07 03:27:27</td>\n",
       "      <td>2022-10-01</td>\n",
       "      <td>2022-10-07 03:27:27</td>\n",
       "      <td>7.12</td>\n",
       "      <td>32534.00</td>\n",
       "      <td>Size 140\\nADG = 0,31\\nP/H = 139 kg\\nP/K = 2.88...</td>\n",
       "    </tr>\n",
       "    <tr>\n",
       "      <th>2</th>\n",
       "      <td>18747.00</td>\n",
       "      <td>2022-10-08 01:30:56</td>\n",
       "      <td>2022-10-08</td>\n",
       "      <td>2022-10-08 01:30:56</td>\n",
       "      <td>9.75</td>\n",
       "      <td>32575.00</td>\n",
       "      <td>Size 103\\nADG = 0,38\\nP/H = 160 kg\\nP/K = 3.94...</td>\n",
       "    </tr>\n",
       "  </tbody>\n",
       "</table>\n",
       "</div>"
      ],
      "text/plain": [
       "   cycle_id           updated_at  sampled_at           created_at  \\\n",
       "0  18747.00  2022-10-07 03:26:30  2022-09-24  2022-10-07 02:10:49   \n",
       "1  18747.00  2022-10-07 03:27:27  2022-10-01  2022-10-07 03:27:27   \n",
       "2  18747.00  2022-10-08 01:30:56  2022-10-08  2022-10-08 01:30:56   \n",
       "\n",
       "   average_weight       id                                             remark  \n",
       "0            4.91 32508.00  Size 204\\nP/H = 99 kg\\nP/K = 2.020 kg\\nSamplin...  \n",
       "1            7.12 32534.00  Size 140\\nADG = 0,31\\nP/H = 139 kg\\nP/K = 2.88...  \n",
       "2            9.75 32575.00  Size 103\\nADG = 0,38\\nP/H = 160 kg\\nP/K = 3.94...  "
      ]
     },
     "execution_count": 57,
     "metadata": {},
     "output_type": "execute_result"
    }
   ],
   "source": [
    "sampling = pd.read_csv(r\"\\Belajar\\Jala Test\\Dataset\\samplings.csv\")\n",
    "sampling.head(3)"
   ]
  },
  {
   "cell_type": "markdown",
   "metadata": {},
   "source": [
    "**__Catatan__** : <p>\n",
    "Berdasarkan pemahaman data, informasi yang di muat adalah informasi sample udang yang diambil, seperti tanggal sampling, rata berat, remark, dan sebagainya"
   ]
  },
  {
   "cell_type": "code",
   "execution_count": 58,
   "metadata": {},
   "outputs": [
    {
     "data": {
      "text/plain": [
       "cycle_id              0\n",
       "updated_at            0\n",
       "sampled_at            0\n",
       "created_at            0\n",
       "average_weight        0\n",
       "id                    0\n",
       "remark            13693\n",
       "dtype: int64"
      ]
     },
     "execution_count": 58,
     "metadata": {},
     "output_type": "execute_result"
    }
   ],
   "source": [
    "sampling.isnull().sum()"
   ]
  },
  {
   "cell_type": "code",
   "execution_count": 59,
   "metadata": {},
   "outputs": [
    {
     "data": {
      "text/plain": [
       "0"
      ]
     },
     "execution_count": 59,
     "metadata": {},
     "output_type": "execute_result"
    }
   ],
   "source": [
    "sampling.duplicated().sum()"
   ]
  }
 ],
 "metadata": {
  "kernelspec": {
   "display_name": "Python 3",
   "language": "python",
   "name": "python3"
  },
  "language_info": {
   "codemirror_mode": {
    "name": "ipython",
    "version": 3
   },
   "file_extension": ".py",
   "mimetype": "text/x-python",
   "name": "python",
   "nbconvert_exporter": "python",
   "pygments_lexer": "ipython3",
   "version": "3.9.2"
  }
 },
 "nbformat": 4,
 "nbformat_minor": 2
}
